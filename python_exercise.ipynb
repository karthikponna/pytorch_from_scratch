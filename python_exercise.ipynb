{
 "cells": [
  {
   "cell_type": "code",
   "execution_count": 2,
   "id": "627736a8",
   "metadata": {},
   "outputs": [
    {
     "name": "stdout",
     "output_type": "stream",
     "text": [
      "0\n",
      "0\n",
      "1\n",
      "2\n",
      "3\n",
      "Final counter 4\n"
     ]
    }
   ],
   "source": [
    "counter = 0\n",
    "print(counter)\n",
    "while counter < 4:\n",
    "    print(counter)\n",
    "    counter +=1\n",
    "\n",
    "print(\"Final counter\", counter)"
   ]
  },
  {
   "cell_type": "code",
   "execution_count": 3,
   "id": "e26cc83d",
   "metadata": {},
   "outputs": [
    {
     "name": "stdout",
     "output_type": "stream",
     "text": [
      "0\n",
      "1\n",
      "2\n",
      "3\n"
     ]
    }
   ],
   "source": [
    "for counter in range(4):\n",
    "    print(counter)"
   ]
  },
  {
   "cell_type": "code",
   "execution_count": 8,
   "id": "22a96979",
   "metadata": {},
   "outputs": [
    {
     "name": "stdout",
     "output_type": "stream",
     "text": [
      "{0: 'bannana'}\n",
      "{0: 'bannana', 1: 'mango'}\n",
      "{0: 'bannana', 1: 'mango', 2: 'pineapple'}\n",
      "final output {0: 'bannana', 1: 'mango', 2: 'pineapple'}\n"
     ]
    }
   ],
   "source": [
    "fruits = [\"bannana\", \"mango\", \"pineapple\"]\n",
    "only_index ={}\n",
    "for index, f in enumerate(fruits):\n",
    "    only_index[index] = f\n",
    "    print(only_index)\n",
    "\n",
    "print(f\"final output {only_index}\")"
   ]
  },
  {
   "cell_type": "code",
   "execution_count": 17,
   "id": "2e0ec2c0",
   "metadata": {},
   "outputs": [
    {
     "name": "stdout",
     "output_type": "stream",
     "text": [
      "[0, 10, 20, 30, 40, 50, 60, 70, 80, 90]\n"
     ]
    }
   ],
   "source": [
    "new_list = []\n",
    "\n",
    "for i in range(10):\n",
    "    new_list.append(i *10)\n",
    "\n",
    "print(new_list)"
   ]
  },
  {
   "cell_type": "code",
   "execution_count": 19,
   "id": "5ff68962",
   "metadata": {},
   "outputs": [
    {
     "name": "stdout",
     "output_type": "stream",
     "text": [
      "[0, 10, 20, 30, 40, 50, 60, 70, 80, 90]\n"
     ]
    }
   ],
   "source": [
    "new_list = [i *10 for i in range(10)]\n",
    "print(new_list)"
   ]
  },
  {
   "cell_type": "code",
   "execution_count": 27,
   "id": "3821a04d",
   "metadata": {},
   "outputs": [
    {
     "name": "stdout",
     "output_type": "stream",
     "text": [
      "hey\n",
      "None\n"
     ]
    }
   ],
   "source": [
    "def example(ss:str)-> str:\n",
    "    if isinstance(ss, str):\n",
    "        return ss.lower()\n",
    "\n",
    "\n",
    "example1 = example(\"hey\")\n",
    "print(example1)\n",
    "example2 = example(2)\n",
    "print(example2)"
   ]
  },
  {
   "cell_type": "code",
   "execution_count": 30,
   "id": "daf52467",
   "metadata": {},
   "outputs": [
    {
     "name": "stdout",
     "output_type": "stream",
     "text": [
      "5\n",
      "7\n",
      "9\n",
      "11\n",
      "13\n",
      "15\n",
      "17\n",
      "19\n",
      "21\n",
      "23\n"
     ]
    }
   ],
   "source": [
    "def iter_func(a, b):\n",
    "    for i in range(a):\n",
    "        yield i*b\n",
    "\n",
    "for i in iter_func(10, 2):\n",
    "    print(i + 5)"
   ]
  },
  {
   "cell_type": "code",
   "execution_count": 34,
   "id": "3b727e3e",
   "metadata": {},
   "outputs": [
    {
     "name": "stdout",
     "output_type": "stream",
     "text": [
      "hello\n"
     ]
    }
   ],
   "source": [
    "class myclass():\n",
    "    id:str = \"hello\"\n",
    "\n",
    "p = myclass()\n",
    "print(p.id)"
   ]
  },
  {
   "cell_type": "code",
   "execution_count": 35,
   "id": "aefda310",
   "metadata": {},
   "outputs": [
    {
     "name": "stdout",
     "output_type": "stream",
     "text": [
      "John\n",
      "36\n",
      "6\n"
     ]
    },
    {
     "ename": "AttributeError",
     "evalue": "'Person' object has no attribute 'counter'",
     "output_type": "error",
     "traceback": [
      "\u001b[31m---------------------------------------------------------------------------\u001b[39m",
      "\u001b[31mAttributeError\u001b[39m                            Traceback (most recent call last)",
      "\u001b[36mCell\u001b[39m\u001b[36m \u001b[39m\u001b[32mIn[35]\u001b[39m\u001b[32m, line 14\u001b[39m\n\u001b[32m     12\u001b[39m \u001b[38;5;28mprint\u001b[39m(p1.age)\n\u001b[32m     13\u001b[39m \u001b[38;5;28mprint\u001b[39m(p1.x)\n\u001b[32m---> \u001b[39m\u001b[32m14\u001b[39m \u001b[38;5;28mprint\u001b[39m(\u001b[43mp1\u001b[49m\u001b[43m.\u001b[49m\u001b[43mcounter\u001b[49m)\n",
      "\u001b[31mAttributeError\u001b[39m: 'Person' object has no attribute 'counter'"
     ]
    }
   ],
   "source": [
    "class Person:\n",
    "    x = 5\n",
    "    def __init__(self, name, age):\n",
    "        self.name = name\n",
    "        self.age = age\n",
    "        counter = 1\n",
    "        self.x += 1 \n",
    "\n",
    "p1 = Person(\"John\", 36)\n",
    "\n",
    "print(p1.name)\n",
    "print(p1.age)\n",
    "print(p1.x)\n",
    "print(p1.counter)"
   ]
  },
  {
   "cell_type": "code",
   "execution_count": 36,
   "id": "097c1bff",
   "metadata": {},
   "outputs": [
    {
     "name": "stdout",
     "output_type": "stream",
     "text": [
      "Number of students 6\n",
      "Student 0 mark percentage 55.56\n",
      "Student 1 mark percentage 35.56\n",
      "Student 2 mark percentage 67.78\n",
      "Student 3 mark percentage 83.33\n",
      "Student 4 mark percentage 92.22\n",
      "Student 5 mark percentage 35.56\n"
     ]
    }
   ],
   "source": [
    "#Very basic Mark keeping class\n",
    "class Marks:\n",
    "    max_mark = 90\n",
    "    def __init__(self, num_students, raw_marks):\n",
    "        self.number_of_students = num_students\n",
    "        self.raw_students_marks = raw_marks\n",
    "        \n",
    "        #raise will give a warning and tell Python to stop running the code\n",
    "        if len(self.raw_students_marks) != self.number_of_students:\n",
    "            raise ValueError(\"The number of students defined does not equal the numer of marks given\")\n",
    "        \n",
    "    def __len__(self):\n",
    "        return self.number_of_students\n",
    "    \n",
    "    def __iter__(self):\n",
    "        #return a generator object that will calculate the percentage for each mark\n",
    "        return ((mark / self.max_mark) * 100 for mark in self.raw_students_marks)\n",
    "\n",
    "marks = Marks(6, [50, 32, 61, 75, 83, 32])\n",
    "\n",
    "#Using len() on our class will return the ouput from the __len__ method\n",
    "print(\"Number of students\", len(marks))\n",
    "\n",
    "#We can simply iterate over our class as we have defined an __iter__ method\n",
    "for i, mark in enumerate(marks):\n",
    "    print(\"Student %d mark percentage %.2f\" %(i, mark))"
   ]
  },
  {
   "cell_type": "code",
   "execution_count": 38,
   "id": "102a2fb3",
   "metadata": {},
   "outputs": [
    {
     "name": "stdout",
     "output_type": "stream",
     "text": [
      "1\n",
      "2\n",
      "3\n",
      "4\n",
      "5\n"
     ]
    }
   ],
   "source": [
    "x = [1, 2, 3, 4, 5]\n",
    "\n",
    "for i in range(len(x)):\n",
    "    print(x[i])"
   ]
  },
  {
   "cell_type": "code",
   "execution_count": 40,
   "id": "be3fab01",
   "metadata": {},
   "outputs": [],
   "source": [
    "W = [[1, 1, 1],\n",
    "     [1.5, 1.5, 1.5],\n",
    "     [2, 2, 2]]\n",
    "\n",
    "#3x1\n",
    "x = [[6], [7], [8]]\n",
    "#3x1\n",
    "b = [[1], [1], [1]]\n",
    "\n",
    "#Variable to store output\n",
    "#3x1\n",
    "y = [[0], [0], [0]]"
   ]
  },
  {
   "cell_type": "code",
   "execution_count": 41,
   "id": "b5b7fa33",
   "metadata": {},
   "outputs": [
    {
     "name": "stdout",
     "output_type": "stream",
     "text": [
      "Output:\n",
      " [[22. ]\n",
      " [32.5]\n",
      " [43. ]]\n",
      "Output shape:\n",
      " (3, 1)\n"
     ]
    }
   ],
   "source": [
    "import numpy as np\n",
    "\n",
    "#We can transform our list of lists into a \"numpy array\" by using the function \"array\"\n",
    "W_np = np.array(W)\n",
    "\n",
    "x_np = np.array(x)\n",
    "\n",
    "#lets use the function \"ones\" to create an array of ones!\n",
    "b_np = np.ones((3, 1))\n",
    "\n",
    "#Lets now compute Wx + b using these numpy variables!\n",
    "output = np.matmul(W_np, x_np) + b_np\n",
    "\n",
    "#print out the result\n",
    "print(\"Output:\\n\", output)\n",
    "print(\"Output shape:\\n\", output.shape)"
   ]
  },
  {
   "cell_type": "code",
   "execution_count": 42,
   "id": "cb395363",
   "metadata": {},
   "outputs": [
    {
     "name": "stdout",
     "output_type": "stream",
     "text": [
      "Our 3D Tensor:\n",
      " [[[0.99306891 0.38098543 0.04776829 0.60861294]\n",
      "  [0.44467089 0.91621151 0.94057535 0.55817396]\n",
      "  [0.18033412 0.05544085 0.24962609 0.48049783]]\n",
      "\n",
      " [[0.61813872 0.79828365 0.27876223 0.54025992]\n",
      "  [0.05774377 0.07839759 0.77377194 0.58368827]\n",
      "  [0.16647814 0.88700231 0.54763756 0.89057505]]]\n"
     ]
    }
   ],
   "source": [
    "T = np.random.random((2, 3, 4))\n",
    "print(\"Our 3D Tensor:\\n\", T)"
   ]
  }
 ],
 "metadata": {
  "kernelspec": {
   "display_name": "pytorch_from_scratch",
   "language": "python",
   "name": "python3"
  },
  "language_info": {
   "codemirror_mode": {
    "name": "ipython",
    "version": 3
   },
   "file_extension": ".py",
   "mimetype": "text/x-python",
   "name": "python",
   "nbconvert_exporter": "python",
   "pygments_lexer": "ipython3",
   "version": "3.13.5"
  }
 },
 "nbformat": 4,
 "nbformat_minor": 5
}
