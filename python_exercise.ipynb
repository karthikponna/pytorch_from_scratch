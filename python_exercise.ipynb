{
 "cells": [
  {
   "cell_type": "code",
   "execution_count": 2,
   "id": "627736a8",
   "metadata": {},
   "outputs": [
    {
     "name": "stdout",
     "output_type": "stream",
     "text": [
      "0\n",
      "0\n",
      "1\n",
      "2\n",
      "3\n",
      "Final counter 4\n"
     ]
    }
   ],
   "source": [
    "counter = 0\n",
    "print(counter)\n",
    "while counter < 4:\n",
    "    print(counter)\n",
    "    counter +=1\n",
    "\n",
    "print(\"Final counter\", counter)"
   ]
  },
  {
   "cell_type": "code",
   "execution_count": 3,
   "id": "e26cc83d",
   "metadata": {},
   "outputs": [
    {
     "name": "stdout",
     "output_type": "stream",
     "text": [
      "0\n",
      "1\n",
      "2\n",
      "3\n"
     ]
    }
   ],
   "source": [
    "for counter in range(4):\n",
    "    print(counter)"
   ]
  },
  {
   "cell_type": "code",
   "execution_count": 8,
   "id": "22a96979",
   "metadata": {},
   "outputs": [
    {
     "name": "stdout",
     "output_type": "stream",
     "text": [
      "{0: 'bannana'}\n",
      "{0: 'bannana', 1: 'mango'}\n",
      "{0: 'bannana', 1: 'mango', 2: 'pineapple'}\n",
      "final output {0: 'bannana', 1: 'mango', 2: 'pineapple'}\n"
     ]
    }
   ],
   "source": [
    "fruits = [\"bannana\", \"mango\", \"pineapple\"]\n",
    "only_index ={}\n",
    "for index, f in enumerate(fruits):\n",
    "    only_index[index] = f\n",
    "    print(only_index)\n",
    "\n",
    "print(f\"final output {only_index}\")"
   ]
  },
  {
   "cell_type": "code",
   "execution_count": 17,
   "id": "2e0ec2c0",
   "metadata": {},
   "outputs": [
    {
     "name": "stdout",
     "output_type": "stream",
     "text": [
      "[0, 10, 20, 30, 40, 50, 60, 70, 80, 90]\n"
     ]
    }
   ],
   "source": [
    "new_list = []\n",
    "\n",
    "for i in range(10):\n",
    "    new_list.append(i *10)\n",
    "\n",
    "print(new_list)"
   ]
  },
  {
   "cell_type": "code",
   "execution_count": 19,
   "id": "5ff68962",
   "metadata": {},
   "outputs": [
    {
     "name": "stdout",
     "output_type": "stream",
     "text": [
      "[0, 10, 20, 30, 40, 50, 60, 70, 80, 90]\n"
     ]
    }
   ],
   "source": [
    "new_list = [i *10 for i in range(10)]\n",
    "print(new_list)"
   ]
  },
  {
   "cell_type": "code",
   "execution_count": 27,
   "id": "3821a04d",
   "metadata": {},
   "outputs": [
    {
     "name": "stdout",
     "output_type": "stream",
     "text": [
      "hey\n",
      "None\n"
     ]
    }
   ],
   "source": [
    "def example(ss:str)-> str:\n",
    "    if isinstance(ss, str):\n",
    "        return ss.lower()\n",
    "\n",
    "\n",
    "example1 = example(\"hey\")\n",
    "print(example1)\n",
    "example2 = example(2)\n",
    "print(example2)"
   ]
  },
  {
   "cell_type": "code",
   "execution_count": 30,
   "id": "daf52467",
   "metadata": {},
   "outputs": [
    {
     "name": "stdout",
     "output_type": "stream",
     "text": [
      "5\n",
      "7\n",
      "9\n",
      "11\n",
      "13\n",
      "15\n",
      "17\n",
      "19\n",
      "21\n",
      "23\n"
     ]
    }
   ],
   "source": [
    "def iter_func(a, b):\n",
    "    for i in range(a):\n",
    "        yield i*b\n",
    "\n",
    "for i in iter_func(10, 2):\n",
    "    print(i + 5)"
   ]
  },
  {
   "cell_type": "code",
   "execution_count": 34,
   "id": "3b727e3e",
   "metadata": {},
   "outputs": [
    {
     "name": "stdout",
     "output_type": "stream",
     "text": [
      "hello\n"
     ]
    }
   ],
   "source": [
    "class myclass():\n",
    "    id:str = \"hello\"\n",
    "\n",
    "p = myclass()\n",
    "print(p.id)"
   ]
  },
  {
   "cell_type": "code",
   "execution_count": 35,
   "id": "aefda310",
   "metadata": {},
   "outputs": [
    {
     "name": "stdout",
     "output_type": "stream",
     "text": [
      "John\n",
      "36\n",
      "6\n"
     ]
    },
    {
     "ename": "AttributeError",
     "evalue": "'Person' object has no attribute 'counter'",
     "output_type": "error",
     "traceback": [
      "\u001b[31m---------------------------------------------------------------------------\u001b[39m",
      "\u001b[31mAttributeError\u001b[39m                            Traceback (most recent call last)",
      "\u001b[36mCell\u001b[39m\u001b[36m \u001b[39m\u001b[32mIn[35]\u001b[39m\u001b[32m, line 14\u001b[39m\n\u001b[32m     12\u001b[39m \u001b[38;5;28mprint\u001b[39m(p1.age)\n\u001b[32m     13\u001b[39m \u001b[38;5;28mprint\u001b[39m(p1.x)\n\u001b[32m---> \u001b[39m\u001b[32m14\u001b[39m \u001b[38;5;28mprint\u001b[39m(\u001b[43mp1\u001b[49m\u001b[43m.\u001b[49m\u001b[43mcounter\u001b[49m)\n",
      "\u001b[31mAttributeError\u001b[39m: 'Person' object has no attribute 'counter'"
     ]
    }
   ],
   "source": [
    "class Person:\n",
    "    x = 5\n",
    "    def __init__(self, name, age):\n",
    "        self.name = name\n",
    "        self.age = age\n",
    "        counter = 1\n",
    "        self.x += 1 \n",
    "\n",
    "p1 = Person(\"John\", 36)\n",
    "\n",
    "print(p1.name)\n",
    "print(p1.age)\n",
    "print(p1.x)\n",
    "print(p1.counter)"
   ]
  },
  {
   "cell_type": "code",
   "execution_count": 36,
   "id": "097c1bff",
   "metadata": {},
   "outputs": [
    {
     "name": "stdout",
     "output_type": "stream",
     "text": [
      "Number of students 6\n",
      "Student 0 mark percentage 55.56\n",
      "Student 1 mark percentage 35.56\n",
      "Student 2 mark percentage 67.78\n",
      "Student 3 mark percentage 83.33\n",
      "Student 4 mark percentage 92.22\n",
      "Student 5 mark percentage 35.56\n"
     ]
    }
   ],
   "source": [
    "#Very basic Mark keeping class\n",
    "class Marks:\n",
    "    max_mark = 90\n",
    "    def __init__(self, num_students, raw_marks):\n",
    "        self.number_of_students = num_students\n",
    "        self.raw_students_marks = raw_marks\n",
    "        \n",
    "        #raise will give a warning and tell Python to stop running the code\n",
    "        if len(self.raw_students_marks) != self.number_of_students:\n",
    "            raise ValueError(\"The number of students defined does not equal the numer of marks given\")\n",
    "        \n",
    "    def __len__(self):\n",
    "        return self.number_of_students\n",
    "    \n",
    "    def __iter__(self):\n",
    "        #return a generator object that will calculate the percentage for each mark\n",
    "        return ((mark / self.max_mark) * 100 for mark in self.raw_students_marks)\n",
    "\n",
    "marks = Marks(6, [50, 32, 61, 75, 83, 32])\n",
    "\n",
    "#Using len() on our class will return the ouput from the __len__ method\n",
    "print(\"Number of students\", len(marks))\n",
    "\n",
    "#We can simply iterate over our class as we have defined an __iter__ method\n",
    "for i, mark in enumerate(marks):\n",
    "    print(\"Student %d mark percentage %.2f\" %(i, mark))"
   ]
  },
  {
   "cell_type": "code",
   "execution_count": 38,
   "id": "102a2fb3",
   "metadata": {},
   "outputs": [
    {
     "name": "stdout",
     "output_type": "stream",
     "text": [
      "1\n",
      "2\n",
      "3\n",
      "4\n",
      "5\n"
     ]
    }
   ],
   "source": [
    "x = [1, 2, 3, 4, 5]\n",
    "\n",
    "for i in range(len(x)):\n",
    "    print(x[i])"
   ]
  },
  {
   "cell_type": "code",
   "execution_count": 40,
   "id": "be3fab01",
   "metadata": {},
   "outputs": [],
   "source": [
    "W = [[1, 1, 1],\n",
    "     [1.5, 1.5, 1.5],\n",
    "     [2, 2, 2]]\n",
    "\n",
    "#3x1\n",
    "x = [[6], [7], [8]]\n",
    "#3x1\n",
    "b = [[1], [1], [1]]\n",
    "\n",
    "#Variable to store output\n",
    "#3x1\n",
    "y = [[0], [0], [0]]"
   ]
  },
  {
   "cell_type": "code",
   "execution_count": 41,
   "id": "b5b7fa33",
   "metadata": {},
   "outputs": [
    {
     "name": "stdout",
     "output_type": "stream",
     "text": [
      "Output:\n",
      " [[22. ]\n",
      " [32.5]\n",
      " [43. ]]\n",
      "Output shape:\n",
      " (3, 1)\n"
     ]
    }
   ],
   "source": [
    "import numpy as np\n",
    "\n",
    "#We can transform our list of lists into a \"numpy array\" by using the function \"array\"\n",
    "W_np = np.array(W)\n",
    "\n",
    "x_np = np.array(x)\n",
    "\n",
    "#lets use the function \"ones\" to create an array of ones!\n",
    "b_np = np.ones((3, 1))\n",
    "\n",
    "#Lets now compute Wx + b using these numpy variables!\n",
    "output = np.matmul(W_np, x_np) + b_np\n",
    "\n",
    "#print out the result\n",
    "print(\"Output:\\n\", output)\n",
    "print(\"Output shape:\\n\", output.shape)"
   ]
  },
  {
   "cell_type": "code",
   "execution_count": 42,
   "id": "cb395363",
   "metadata": {},
   "outputs": [
    {
     "name": "stdout",
     "output_type": "stream",
     "text": [
      "Our 3D Tensor:\n",
      " [[[0.99306891 0.38098543 0.04776829 0.60861294]\n",
      "  [0.44467089 0.91621151 0.94057535 0.55817396]\n",
      "  [0.18033412 0.05544085 0.24962609 0.48049783]]\n",
      "\n",
      " [[0.61813872 0.79828365 0.27876223 0.54025992]\n",
      "  [0.05774377 0.07839759 0.77377194 0.58368827]\n",
      "  [0.16647814 0.88700231 0.54763756 0.89057505]]]\n"
     ]
    }
   ],
   "source": [
    "T = np.random.random((2, 3, 4))\n",
    "print(\"Our 3D Tensor:\\n\", T)"
   ]
  },
  {
   "cell_type": "code",
   "execution_count": 4,
   "id": "54a3d784",
   "metadata": {},
   "outputs": [
    {
     "name": "stdout",
     "output_type": "stream",
     "text": [
      "[1 2 3 4 5]\n"
     ]
    }
   ],
   "source": [
    "import numpy as np\n",
    "vector = np.array([1, 2, 3, 4, 5])\n",
    "print(vector)"
   ]
  },
  {
   "cell_type": "code",
   "execution_count": 10,
   "id": "52e96947",
   "metadata": {},
   "outputs": [
    {
     "data": {
      "text/plain": [
       "np.int64(3)"
      ]
     },
     "execution_count": 10,
     "metadata": {},
     "output_type": "execute_result"
    }
   ],
   "source": [
    "vector[2]"
   ]
  },
  {
   "cell_type": "code",
   "execution_count": 16,
   "id": "51b50758",
   "metadata": {},
   "outputs": [
    {
     "name": "stdout",
     "output_type": "stream",
     "text": [
      "Our Matrix:\n",
      " [[1 2 3]\n",
      " [4 5 6]\n",
      " [7 8 9]]\n",
      "A single element:\n",
      " 5\n",
      "Index rows with all columns:\n",
      " [[1 2 3]\n",
      " [4 5 6]]\n",
      "Index columns with all rows:\n",
      " [[1 2]\n",
      " [4 5]\n",
      " [7 8]]\n",
      "Index columns and rows:\n",
      " [[2 3]\n",
      " [5 6]]\n"
     ]
    }
   ],
   "source": [
    "#Create a Matrix\n",
    "matrix = np.array([[1,2,3],[4,5,6],[7,8,9]])\n",
    "print(\"Our Matrix:\\n\",matrix)\n",
    "\n",
    "# #Select 2nd row 2nd column\n",
    "print(\"A single element:\\n\",matrix[1,1])\n",
    "\n",
    "# #Select the first 2 rows and all the columns of the matrix\n",
    "print(\"Index rows with all columns:\\n\",matrix[:2,:])\n",
    "\n",
    "# #Select all rows and the 2nd column of the matrix\n",
    "print(\"Index columns with all rows:\\n\",matrix[:,:2])\n",
    "\n",
    "# #Select rows 1 and 2 and column 2 and 3 of the matrix\n",
    "print(\"Index columns and rows:\\n\",matrix[:2,1:])"
   ]
  },
  {
   "cell_type": "code",
   "execution_count": 17,
   "id": "0967a3be",
   "metadata": {},
   "outputs": [
    {
     "name": "stdout",
     "output_type": "stream",
     "text": [
      "The Tensors shape is: (3, 5, 5)\n",
      "The Tensors size is: 75\n",
      "There are 3 Dimensions\n"
     ]
    }
   ],
   "source": [
    "#Lets create a large 3D Tensor\n",
    "Tensor = np.random.randint(0, 10, (3, 5, 5))\n",
    "\n",
    "#View the Number of elements in every dimension\n",
    "print(\"The Tensors shape is:\", Tensor.shape)\n",
    "\n",
    "#View the number of elements in total\n",
    "print(\"The Tensors size is:\", Tensor.size)\n",
    "\n",
    "#View the number of Dimensions(2 in this case)\n",
    "print(\"There are %d Dimensions\" %(Tensor.ndim))"
   ]
  },
  {
   "cell_type": "code",
   "execution_count": 18,
   "id": "5cbc0337",
   "metadata": {},
   "outputs": [
    {
     "name": "stdout",
     "output_type": "stream",
     "text": [
      "Origional Tensor:\n",
      " [[[1 0 5 6 3]\n",
      "  [0 8 4 0 8]\n",
      "  [1 7 4 1 6]\n",
      "  [1 1 2 8 4]\n",
      "  [5 5 6 7 4]]\n",
      "\n",
      " [[4 3 8 5 1]\n",
      "  [3 2 0 5 9]\n",
      "  [8 2 4 5 8]\n",
      "  [7 2 7 4 5]\n",
      "  [1 6 4 4 4]]\n",
      "\n",
      " [[7 9 8 9 2]\n",
      "  [7 5 5 0 5]\n",
      "  [4 4 5 0 0]\n",
      "  [6 7 9 5 5]\n",
      "  [9 1 9 5 1]]]\n",
      "Flatten to a 1D Tensor:\n",
      " [1 0 5 6 3 0 8 4 0 8 1 7 4 1 6 1 1 2 8 4 5 5 6 7 4 4 3 8 5 1 3 2 0 5 9 8 2\n",
      " 4 5 8 7 2 7 4 5 1 6 4 4 4 7 9 8 9 2 7 5 5 0 5 4 4 5 0 0 6 7 9 5 5 9 1 9 5\n",
      " 1]\n",
      "Reshape to 3x25:\n",
      " [[1 0 5 6 3 0 8 4 0 8 1 7 4 1 6 1 1 2 8 4 5 5 6 7 4]\n",
      " [4 3 8 5 1 3 2 0 5 9 8 2 4 5 8 7 2 7 4 5 1 6 4 4 4]\n",
      " [7 9 8 9 2 7 5 5 0 5 4 4 5 0 0 6 7 9 5 5 9 1 9 5 1]]\n",
      "Reshape to 5xwhatever:\n",
      " [[1 0 5 6 3 0 8 4 0 8 1 7 4 1 6]\n",
      " [1 1 2 8 4 5 5 6 7 4 4 3 8 5 1]\n",
      " [3 2 0 5 9 8 2 4 5 8 7 2 7 4 5]\n",
      " [1 6 4 4 4 7 9 8 9 2 7 5 5 0 5]\n",
      " [4 4 5 0 0 6 7 9 5 5 9 1 9 5 1]]\n"
     ]
    }
   ],
   "source": [
    "print(\"Origional Tensor:\\n\", Tensor)\n",
    "\n",
    "#We can also use the Flatten method to convert to a 1D Tensor\n",
    "print(\"Flatten to a 1D Tensor:\\n\",Tensor.flatten())\n",
    "\n",
    "#Let us reshape our Tensor to a 2D Tensor\n",
    "print(\"Reshape to 3x25:\\n\", Tensor.reshape(3,25))\n",
    "\n",
    "#Here the -1 tells Numpy to put as many elements as it needs here in order to maintain the given dimention sizes\n",
    "#AKA \"I don't care the size of this dimention as long as the first one is 3\"\n",
    "print(\"Reshape to 5xwhatever:\\n\",Tensor.reshape(5,-1))"
   ]
  },
  {
   "cell_type": "code",
   "execution_count": 19,
   "id": "8a39a68b",
   "metadata": {},
   "outputs": [
    {
     "data": {
      "text/plain": [
       "[<matplotlib.lines.Line2D at 0x10f6234d0>]"
      ]
     },
     "execution_count": 19,
     "metadata": {},
     "output_type": "execute_result"
    },
    {
     "data": {
      "image/png": "[encoded data removed]",
      "text/plain": [
       "<Figure size 640x480 with 1 Axes>"
      ]
     },
     "metadata": {},
     "output_type": "display_data"
    }
   ],
   "source": [
    "import matplotlib.pyplot as plt\n",
    "\n",
    "#Create a sine wave using numpy functions and matplotlib\n",
    "#create an array of 1000 points from 0 - 100\n",
    "x = np.linspace(0, 100, 1000)\n",
    "#calculate the sine of the points\n",
    "y = np.sin(x)\n",
    "#create a line plot\n",
    "plt.plot(x, y)"
   ]
  },
  {
   "cell_type": "code",
   "execution_count": 20,
   "id": "1f1c29c6",
   "metadata": {},
   "outputs": [
    {
     "data": {
      "text/plain": [
       "<matplotlib.image.AxesImage at 0x10f405d30>"
      ]
     },
     "execution_count": 20,
     "metadata": {},
     "output_type": "execute_result"
    },
    {
     "data": {
      "image/png": "[encoded data removed]",
      "text/plain": [
       "<Figure size 640x480 with 1 Axes>"
      ]
     },
     "metadata": {},
     "output_type": "display_data"
    }
   ],
   "source": [
    "#Let's create an image as a 2D array\n",
    "img = np.zeros((60, 60))\n",
    "#Set some points to 1\n",
    "img[10:20, (15, 45)] = 1\n",
    "img[35:45, (15, 45)] = 1\n",
    "img[45, 15:46] = 1\n",
    "\n",
    "#imshow can display numpy arrays as colour (3D array - HxWxC) or grayscale images (2D array - HxW)!\n",
    "plt.imshow(img)"
   ]
  },
  {
   "cell_type": "code",
   "execution_count": 21,
   "id": "18df4b5f",
   "metadata": {},
   "outputs": [
    {
     "name": "stdout",
     "output_type": "stream",
     "text": [
      "Tensor 1:\n",
      " [[8 9 5 9]]\n",
      "With shape:\n",
      " (1, 4)\n",
      "\n",
      "Tensor 2:\n",
      " [[7]\n",
      " [9]]\n",
      "With shape:\n",
      " (2, 1)\n"
     ]
    }
   ],
   "source": [
    "#Lets create 2 differently shaped 2D Tensors (Matrices)\n",
    "Tensor1 = np.random.randint(0, 10, (1, 4))\n",
    "Tensor2 = np.random.randint(0, 10, (2, 1))\n",
    "\n",
    "print(\"Tensor 1:\\n\", Tensor1)\n",
    "print(\"With shape:\\n\", Tensor1.shape)\n",
    "\n",
    "print(\"\\nTensor 2:\\n\", Tensor2)\n",
    "print(\"With shape:\\n\", Tensor2.shape)"
   ]
  },
  {
   "cell_type": "code",
   "execution_count": 22,
   "id": "ecfa7b2c",
   "metadata": {},
   "outputs": [
    {
     "name": "stdout",
     "output_type": "stream",
     "text": [
      "The resulting Tensor:\n",
      " [[15 16 12 16]\n",
      " [17 18 14 18]]\n",
      "The resulting shape is:\n",
      " (2, 4)\n"
     ]
    }
   ],
   "source": [
    "Tensor3 = np.add(Tensor1, Tensor2)\n",
    "\n",
    "print(\"The resulting Tensor:\\n\", Tensor3)\n",
    "print(\"The resulting shape is:\\n\", Tensor3.shape)"
   ]
  },
  {
   "cell_type": "code",
   "execution_count": 23,
   "id": "f568b349",
   "metadata": {},
   "outputs": [
    {
     "name": "stdout",
     "output_type": "stream",
     "text": [
      "Tensor 1 shape:\n",
      " (1, 4)\n",
      "Tensor 2 shape:\n",
      " (2, 1)\n",
      "Resulting Tensor shape:\n",
      " (2, 4)\n"
     ]
    }
   ],
   "source": [
    "print(\"Tensor 1 shape:\\n\", Tensor1.shape)\n",
    "print(\"Tensor 2 shape:\\n\", Tensor2.shape)\n",
    "print(\"Resulting Tensor shape:\\n\", Tensor3.shape)"
   ]
  },
  {
   "cell_type": "code",
   "execution_count": 24,
   "id": "22f86af7",
   "metadata": {},
   "outputs": [
    {
     "name": "stdout",
     "output_type": "stream",
     "text": [
      "Tensor 1:\n",
      " [[8 9 5 9]\n",
      " [8 9 5 9]]\n",
      "Tensor 1 shape:\n",
      " (2, 4)\n",
      "\n",
      "Tensor 2:\n",
      " [[7 7 7 7]\n",
      " [9 9 9 9]]\n",
      "Tensor 2 shape:\n",
      " (2, 4)\n"
     ]
    }
   ],
   "source": [
    "#Repeat entries of dim0 2 times\n",
    "Tensor1_repeated = Tensor1.repeat(2, 0)\n",
    "#Repeat entries of dim1 4 times\n",
    "Tensor2_repeated = Tensor2.repeat(4, 1)\n",
    "\n",
    "print(\"Tensor 1:\\n\", Tensor1_repeated)\n",
    "print(\"Tensor 1 shape:\\n\", Tensor1_repeated.shape)\n",
    "\n",
    "print(\"\\nTensor 2:\\n\", Tensor2_repeated)\n",
    "print(\"Tensor 2 shape:\\n\", Tensor2_repeated.shape)"
   ]
  },
  {
   "cell_type": "code",
   "execution_count": 25,
   "id": "3d9e9c05",
   "metadata": {},
   "outputs": [
    {
     "name": "stdout",
     "output_type": "stream",
     "text": [
      "Tensor 3:\n",
      " [[15 16 12 16]\n",
      " [17 18 14 18]]\n"
     ]
    }
   ],
   "source": [
    "Tensor3_repeated = np.add(Tensor1_repeated, Tensor2_repeated)\n",
    "print(\"Tensor 3:\\n\", Tensor3_repeated)"
   ]
  },
  {
   "cell_type": "code",
   "execution_count": 26,
   "id": "949da41f",
   "metadata": {},
   "outputs": [
    {
     "name": "stdout",
     "output_type": "stream",
     "text": [
      "Data shape: (100, 10)\n"
     ]
    }
   ],
   "source": [
    "#Create a random dataset\n",
    "data = np.random.randint(0, 100, (100, 10))\n",
    "print(\"Data shape:\", data.shape)"
   ]
  },
  {
   "cell_type": "code",
   "execution_count": 27,
   "id": "20b7b6aa",
   "metadata": {},
   "outputs": [
    {
     "name": "stdout",
     "output_type": "stream",
     "text": [
      "Quantity mean:\n",
      " [[48.77 45.21 50.83 50.07 47.62 52.32 46.77 52.39 50.69 52.96]]\n",
      "Quantity std:\n",
      " [[29.12 29.36 28.01 30.12 30.37 29.77 30.33 30.07 28.   27.02]]\n",
      "mean shape:\n",
      " (1, 10)\n",
      "std shape:\n",
      " (1, 10)\n"
     ]
    }
   ],
   "source": [
    "#Find the mean across the 0th dimension\n",
    "#Aka find the mean of each quantity over the 100 datapoint\n",
    "#This should give us 10 means\n",
    "mean_vector = data.mean(0).reshape(1, 10)\n",
    "#Find the standard deviation across the 0th dimension\n",
    "std_vector = data.std(0).reshape(1, 10)\n",
    "\n",
    "print(\"Quantity mean:\\n\", mean_vector)\n",
    "print(\"Quantity std:\\n\", std_vector.round(2))\n",
    "\n",
    "print(\"mean shape:\\n\", mean_vector.shape)\n",
    "print(\"std shape:\\n\", std_vector.shape)"
   ]
  },
  {
   "cell_type": "code",
   "execution_count": 28,
   "id": "d6eb52e2",
   "metadata": {},
   "outputs": [
    {
     "name": "stdout",
     "output_type": "stream",
     "text": [
      "Normalised dataset  shape:\n",
      " (100, 10)\n"
     ]
    }
   ],
   "source": [
    "data_norm = (data-mean_vector)/std_vector\n",
    "print(\"Normalised dataset  shape:\\n\", data_norm.shape)"
   ]
  },
  {
   "cell_type": "code",
   "execution_count": null,
   "id": "33ceeef3",
   "metadata": {},
   "outputs": [],
   "source": []
  },
  {
   "cell_type": "code",
   "execution_count": null,
   "id": "ca9dfa9e",
   "metadata": {},
   "outputs": [],
   "source": []
  }
 ],
 "metadata": {
  "kernelspec": {
   "display_name": "pytorch_from_scratch (3.13.5)",
   "language": "python",
   "name": "python3"
  },
  "language_info": {
   "codemirror_mode": {
    "name": "ipython",
    "version": 3
   },
   "file_extension": ".py",
   "mimetype": "text/x-python",
   "name": "python",
   "nbconvert_exporter": "python",
   "pygments_lexer": "ipython3",
   "version": "3.13.5"
  }
 },
 "nbformat": 4,
 "nbformat_minor": 5
}
