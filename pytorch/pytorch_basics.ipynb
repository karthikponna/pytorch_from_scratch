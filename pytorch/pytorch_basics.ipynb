{
 "cells": [
  {
   "cell_type": "code",
   "execution_count": 1,
   "id": "4b9ae996",
   "metadata": {},
   "outputs": [],
   "source": [
    "import torch\n",
    "import torchvision\n",
    "import torch.nn as nn\n",
    "import numpy as np\n",
    "import matplotlib.pyplot as plt"
   ]
  },
  {
   "cell_type": "markdown",
   "id": "d15f9ea4",
   "metadata": {},
   "source": [
    "# The Pytorch Tensor"
   ]
  },
  {
   "cell_type": "markdown",
   "id": "f399c643",
   "metadata": {},
   "source": [
    "As we've already explored the \"Tensor\" is a useful concept and is very useful in Machine Learning, however you probably noticed in Numpy that our \"Tensors\" are called \"Arrays\", but now we are in Pytorch this is no more!!\n",
    "Let's do a recap of Numpy arrays and how similar they are to Pytorch tensors."
   ]
  },
  {
   "cell_type": "code",
   "execution_count": 2,
   "id": "d1b87943",
   "metadata": {},
   "outputs": [],
   "source": [
    "# Create some \"Matrices\" as lists of lists  \n",
    "\n",
    "# 3x3\n",
    "W = [[1, 1, 1],\n",
    "     [1.5, 1.5, 1.5],\n",
    "     [2, 2, 2]]\n",
    "\n",
    "# 3x1\n",
    "x = [[6], [7], [8]]\n",
    "# 3x1\n",
    "b = [[1], [1], [1]]\n",
    "\n",
    "# Variable to store output\n",
    "# 3x1\n",
    "y = [[0], [0], [0]]"
   ]
  },
  {
   "cell_type": "code",
   "execution_count": 3,
   "id": "04f5659a",
   "metadata": {},
   "outputs": [
    {
     "name": "stdout",
     "output_type": "stream",
     "text": [
      "Output:\n",
      " [[22. ]\n",
      " [32.5]\n",
      " [43. ]]\n",
      "Output shape:\n",
      " (3, 1)\n"
     ]
    }
   ],
   "source": [
    "# We can transform our list of lists into a \"numpy array\" by using the function \"array\"\n",
    "W_np = np.array(W)\n",
    "\n",
    "x_np = np.array(x)\n",
    "\n",
    "# Lets use the function \"ones\" to create an array of ones!\n",
    "b_np = np.ones((3, 1))\n",
    "\n",
    "# Lets now compute Wx + b using these numpy variables!\n",
    "output = np.matmul(W_np, x_np) + b_np\n",
    "\n",
    "# Print out the result\n",
    "print(\"Output:\\n\", output)\n",
    "print(\"Output shape:\\n\", output.shape)"
   ]
  },
  {
   "cell_type": "markdown",
   "id": "ba8fdd04",
   "metadata": {},
   "source": [
    "Now in Pytorch!"
   ]
  },
  {
   "cell_type": "code",
   "execution_count": 4,
   "id": "bedf0783",
   "metadata": {},
   "outputs": [
    {
     "name": "stdout",
     "output_type": "stream",
     "text": [
      "Output:\n",
      " tensor([[22.0000],\n",
      "        [32.5000],\n",
      "        [43.0000]])\n",
      "Output shape:\n",
      " torch.Size([3, 1])\n"
     ]
    }
   ],
   "source": [
    "# We can transform our list of lists into a \"torch tensor\" by using the function \"FloatTensor\"\n",
    "# Note: here we've specified the datatype of the tensor, a 32bit \"float\" you can also just use the function \"tensor\"\n",
    "# But this will inherit the datatype of the array given, to ensure the data-types are the same\n",
    "# (and we can perform the wanted operations) we use \"FloatTensor\"\n",
    "\n",
    "W_torch = torch.FloatTensor(W)\n",
    "\n",
    "x_torch = torch.FloatTensor(x)\n",
    "\n",
    "# Lets use the function \"ones\" to create an array of ones!\n",
    "b_torch = torch.ones(3, 1)\n",
    "\n",
    "# Lets now compute Wx + b using these numpy variables!\n",
    "output = torch.matmul(W_torch, x_torch) + b_torch\n",
    "\n",
    "# Print out the result\n",
    "print(\"Output:\\n\", output)\n",
    "print(\"Output shape:\\n\", output.shape)"
   ]
  },
  {
   "cell_type": "code",
   "execution_count": 5,
   "id": "7900868d",
   "metadata": {},
   "outputs": [
    {
     "name": "stdout",
     "output_type": "stream",
     "text": [
      "Numpy array:\n",
      " [[0.74322018 0.19457313 0.69402546 0.65678768]\n",
      " [0.82307708 0.60949983 0.86677266 0.36876327]\n",
      " [0.17482409 0.20980216 0.06272876 0.70615605]]\n",
      "Pytorch tensor:\n",
      " tensor([[0.7432, 0.1946, 0.6940, 0.6568],\n",
      "        [0.8231, 0.6095, 0.8668, 0.3688],\n",
      "        [0.1748, 0.2098, 0.0627, 0.7062]])\n",
      "Numpy array:\n",
      " [[0.7432202  0.19457313 0.69402546 0.6567877 ]\n",
      " [0.8230771  0.6094998  0.86677265 0.36876327]\n",
      " [0.17482409 0.20980215 0.06272876 0.7061561 ]]\n"
     ]
    }
   ],
   "source": [
    "# Create a random Numpy array\n",
    "np_array = np.random.random((3, 4))\n",
    "print(\"Numpy array:\\n\", np_array)\n",
    "\n",
    "# Convert to Pytorch tensor\n",
    "torch_tensor = torch.FloatTensor(np_array)\n",
    "print(\"Pytorch tensor:\\n\", torch_tensor)\n",
    "\n",
    "# Convert back to a Numpy array!\n",
    "np_array2 = torch_tensor.numpy()\n",
    "print(\"Numpy array:\\n\", np_array2)"
   ]
  },
  {
   "cell_type": "markdown",
   "id": "f103074b",
   "metadata": {},
   "source": [
    "# On to Pytorch!"
   ]
  },
  {
   "cell_type": "markdown",
   "id": "79ceb497",
   "metadata": {},
   "source": [
    "### Basic Element-wise Operations"
   ]
  },
  {
   "cell_type": "code",
   "execution_count": 6,
   "id": "41f38c3c",
   "metadata": {},
   "outputs": [
    {
     "name": "stdout",
     "output_type": "stream",
     "text": [
      "Our 1D Tensor:\n",
      " tensor([[0.5818, 0.5530, 0.5877, 0.8302, 0.4620],\n",
      "        [0.5004, 0.8391, 0.0886, 0.6100, 0.6843],\n",
      "        [0.8224, 0.4815, 0.3897, 0.7087, 0.5870],\n",
      "        [0.0259, 0.8810, 0.8653, 0.9099, 0.6155]])\n",
      "\n",
      "Scalar Multiplication:\n",
      " tensor([[5.8182, 5.5302, 5.8768, 8.3022, 4.6199],\n",
      "        [5.0042, 8.3910, 0.8855, 6.0998, 6.8428],\n",
      "        [8.2245, 4.8153, 3.8974, 7.0873, 5.8704],\n",
      "        [0.2585, 8.8101, 8.6528, 9.0993, 6.1552]])\n",
      "Addition and Square:\n",
      " tensor([[2.5021, 2.4119, 2.5207, 3.3497, 2.1374],\n",
      "        [2.2513, 3.3823, 1.1849, 2.5920, 2.8368],\n",
      "        [3.3213, 2.1949, 1.9314, 2.9198, 2.5187],\n",
      "        [1.0524, 3.5382, 3.4793, 3.6479, 2.6099]])\n",
      "Addition:\n",
      " tensor([[1.1636, 1.1060, 1.1754, 1.6604, 0.9240],\n",
      "        [1.0008, 1.6782, 0.1771, 1.2200, 1.3686],\n",
      "        [1.6449, 0.9631, 0.7795, 1.4175, 1.1741],\n",
      "        [0.0517, 1.7620, 1.7306, 1.8199, 1.2310]])\n",
      "Addition and division:\n",
      " tensor([[0.3678, 0.3561, 0.3701, 0.4536, 0.3160],\n",
      "        [0.3335, 0.4563, 0.0813, 0.3789, 0.4063],\n",
      "        [0.4513, 0.3250, 0.2804, 0.4148, 0.3699],\n",
      "        [0.0252, 0.4684, 0.4639, 0.4764, 0.3810]])\n",
      "\n",
      "Power and square root:\n",
      " tensor([[0.5818, 0.5530, 0.5877, 0.8302, 0.4620],\n",
      "        [0.5004, 0.8391, 0.0886, 0.6100, 0.6843],\n",
      "        [0.8224, 0.4815, 0.3897, 0.7087, 0.5870],\n",
      "        [0.0259, 0.8810, 0.8653, 0.9099, 0.6155]])\n",
      "\n",
      "Y -\n",
      " Min:0.03\n",
      " Max:0.91\n",
      " Standard Deviation:0.24\n",
      " Sum:12.02\n"
     ]
    }
   ],
   "source": [
    "# Lets create a 2D Tensor using torch.rand\n",
    "y = torch.rand(4, 5)\n",
    "# This will create a \"Vector\" of numbers from 0 to 1\n",
    "print(\"Our 1D Tensor:\\n\",y)\n",
    "\n",
    "# We can perform normal python scalar arithmetic on Torch tensors\n",
    "print(\"\\nScalar Multiplication:\\n\",y * 10)\n",
    "print(\"Addition and Square:\\n\",(y + 1)**2)\n",
    "print(\"Addition:\\n\",y + y)\n",
    "print(\"Addition and division:\\n\",y / (y + 1))\n",
    "\n",
    "# We can use a combination of Torch functions and normal python arithmetic\n",
    "print(\"\\nPower and square root:\\n\",torch.sqrt(y**2))\n",
    "\n",
    "# Torch tensors are objects and have functions\n",
    "print(\"\\nY -\\n Min:%.2f\\n Max:%.2f\\n Standard Deviation:%.2f\\n Sum:%.2f\" %(y.min(), y.max(), y.std(), y.sum()))"
   ]
  },
  {
   "cell_type": "markdown",
   "id": "3d1acbdc",
   "metadata": {},
   "source": [
    "### Tensor Opperations"
   ]
  },
  {
   "cell_type": "code",
   "execution_count": 7,
   "id": "d1f636bd",
   "metadata": {},
   "outputs": [
    {
     "name": "stdout",
     "output_type": "stream",
     "text": [
      "Addition:\n",
      " tensor([[[1.1034, 1.3741, 1.6004],\n",
      "         [1.9059, 0.6368, 0.6363],\n",
      "         [1.4001, 1.0415, 0.9697]],\n",
      "\n",
      "        [[0.1106, 0.4927, 0.4574],\n",
      "         [1.1124, 1.0034, 1.5139],\n",
      "         [0.9233, 0.9484, 1.1134]],\n",
      "\n",
      "        [[1.2935, 0.2976, 1.7224],\n",
      "         [1.6549, 0.9875, 0.4111],\n",
      "         [0.7399, 1.5171, 1.5362]]])\n",
      "Batch Multiplication:\n",
      " tensor([[[1.5955, 0.9160, 1.1314],\n",
      "         [0.9729, 0.6581, 1.1424],\n",
      "         [1.5319, 0.7279, 0.7092]],\n",
      "\n",
      "        [[0.3710, 0.4728, 0.4083],\n",
      "         [0.5825, 0.6225, 0.4804],\n",
      "         [0.7258, 0.7615, 0.5940]],\n",
      "\n",
      "        [[0.9889, 0.7355, 1.2349],\n",
      "         [0.7984, 0.4083, 1.1038],\n",
      "         [1.2095, 1.2911, 0.8604]]])\n"
     ]
    }
   ],
   "source": [
    "# Create two 3D Tensors\n",
    "tensor_1 = torch.rand(3,3,3)\n",
    "tensor_2 = torch.rand(3,3,3)\n",
    "\n",
    "# Add the 2 Tensors\n",
    "print(\"Addition:\\n\",tensor_1 + tensor_2)\n",
    "\n",
    "# We cannot perform a normal \"matrix\" multiplication on a 3D tensor\n",
    "# But we can treat the 3D tensor as a \"batch\" (like a stack) of 2D tensors\n",
    "# And perform normal matrix multiplication independantly on each pair of 2D matricies\n",
    "print(\"Batch Multiplication:\\n\", torch.bmm(tensor_1, tensor_2))"
   ]
  },
  {
   "cell_type": "code",
   "execution_count": 8,
   "id": "bab998ad",
   "metadata": {},
   "outputs": [
    {
     "name": "stdout",
     "output_type": "stream",
     "text": [
      "\n",
      "The origional Tensor is is:\n",
      " tensor([[[0.1660, 0.2959, 0.5122, 0.1655, 0.8461],\n",
      "         [0.5808, 0.3296, 0.7189, 0.2481, 0.1891],\n",
      "         [0.9192, 0.1890, 0.0836, 0.6388, 0.9209],\n",
      "         [0.4830, 0.3654, 0.5324, 0.9529, 0.0525]],\n",
      "\n",
      "        [[0.9999, 0.0181, 0.7890, 0.0178, 0.3936],\n",
      "         [0.6305, 0.3264, 0.2317, 0.5863, 0.0433],\n",
      "         [0.5277, 0.7071, 0.7484, 0.7061, 0.2378],\n",
      "         [0.8870, 0.4132, 0.2663, 0.6703, 0.1169]]])\n",
      "With shape:\n",
      " torch.Size([2, 4, 5])\n",
      "The Re-arranged is:\n",
      " tensor([[[0.1660, 0.9999],\n",
      "         [0.5808, 0.6305],\n",
      "         [0.9192, 0.5277],\n",
      "         [0.4830, 0.8870]],\n",
      "\n",
      "        [[0.2959, 0.0181],\n",
      "         [0.3296, 0.3264],\n",
      "         [0.1890, 0.7071],\n",
      "         [0.3654, 0.4132]],\n",
      "\n",
      "        [[0.5122, 0.7890],\n",
      "         [0.7189, 0.2317],\n",
      "         [0.0836, 0.7484],\n",
      "         [0.5324, 0.2663]],\n",
      "\n",
      "        [[0.1655, 0.0178],\n",
      "         [0.2481, 0.5863],\n",
      "         [0.6388, 0.7061],\n",
      "         [0.9529, 0.6703]],\n",
      "\n",
      "        [[0.8461, 0.3936],\n",
      "         [0.1891, 0.0433],\n",
      "         [0.9209, 0.2378],\n",
      "         [0.0525, 0.1169]]])\n",
      "With shape:\n",
      " torch.Size([5, 4, 2])\n"
     ]
    }
   ],
   "source": [
    "# Lets create a more interesting tensor\n",
    "tensor_3 = torch.rand(2,4,5)\n",
    "# We can swap the Tensor dimensions\n",
    "print(\"\\nThe origional Tensor is is:\\n\", tensor_3)\n",
    "print(\"With shape:\\n\", tensor_3.shape)\n",
    "\n",
    "# Tranpose will swap the dimensions it is given\n",
    "print(\"The Re-arranged is:\\n\", tensor_3.transpose(0,2))\n",
    "print(\"With shape:\\n\", tensor_3.transpose(0,2).shape)"
   ]
  },
  {
   "cell_type": "code",
   "execution_count": 9,
   "id": "45931933",
   "metadata": {},
   "outputs": [
    {
     "name": "stdout",
     "output_type": "stream",
     "text": [
      "The Tensors shape is: torch.Size([3, 2])\n",
      "Add an empty dimenson to dim3: torch.Size([3, 2, 1])\n",
      "Add an empty dimenson to dim2: torch.Size([3, 1, 2])\n"
     ]
    }
   ],
   "source": [
    "# Lets create a 2D Tensor\n",
    "tensor = torch.rand(3, 2)\n",
    "\n",
    "# View the Number of elements in every dimension\n",
    "print(\"The Tensors shape is:\", tensor.shape)\n",
    "\n",
    "# Unsqueeze adds an \"empty\" dimension to our Tensor\n",
    "print(\"Add an empty dimenson to dim3:\", tensor.unsqueeze(2).shape)\n",
    "\n",
    "# Unsqueeze adds an \"empty\" dimension to our Tensor\n",
    "print(\"Add an empty dimenson to dim2:\", tensor.unsqueeze(1).shape)"
   ]
  },
  {
   "cell_type": "code",
   "execution_count": 10,
   "id": "0814759e",
   "metadata": {},
   "outputs": [
    {
     "name": "stdout",
     "output_type": "stream",
     "text": [
      "The Tensors shape is: torch.Size([1, 3, 1, 2])\n",
      "Remove empty dimenson dim3: torch.Size([1, 3, 2])\n",
      "Remove empty dimenson dim0: torch.Size([3, 1, 2])\n",
      "Remove all empty dimensons: torch.Size([3, 2])\n"
     ]
    }
   ],
   "source": [
    "# Lets create a 4D Tensor with a few \"empty\" dimensions\n",
    "tensor = torch.rand(1, 3, 1, 2)\n",
    "\n",
    "# view the Number of elements in every dimension\n",
    "print(\"The Tensors shape is:\", tensor.shape)\n",
    "\n",
    "# squeeze removes an \"empty\" dimension from our Tensor\n",
    "print(\"Remove empty dimenson dim3:\", tensor.squeeze(2).shape)\n",
    "\n",
    "# squeeze removes an \"empty\" dimension from our Tensor\n",
    "print(\"Remove empty dimenson dim0:\", tensor.squeeze(0).shape)\n",
    "\n",
    "# If we don't specify a dimension, squeeze will remove ALL empty dimensions\n",
    "print(\"Remove all empty dimensons:\", tensor.squeeze().shape)"
   ]
  },
  {
   "cell_type": "code",
   "execution_count": 11,
   "id": "652337e5",
   "metadata": {},
   "outputs": [
    {
     "name": "stdout",
     "output_type": "stream",
     "text": [
      "Tensor 1 shape:\n",
      " torch.Size([1, 4, 3, 1])\n",
      "Tensor 2 shape:\n",
      " torch.Size([3, 4, 1, 4])\n",
      "The resulting shape is:\n",
      " torch.Size([3, 4, 3, 4])\n"
     ]
    }
   ],
   "source": [
    "# Lets create 2 differently shaped 4D Tensors (Matrices)\n",
    "tensor1 = torch.rand(1, 4, 3, 1)\n",
    "tensor2 = torch.rand(3, 4, 1, 4)\n",
    "\n",
    "print(\"Tensor 1 shape:\\n\", tensor1.shape)\n",
    "print(\"Tensor 2 shape:\\n\", tensor2.shape)\n",
    "\n",
    "tensor3 = tensor1 + tensor2\n",
    "\n",
    "print(\"The resulting shape is:\\n\", tensor3.shape)"
   ]
  },
  {
   "cell_type": "markdown",
   "id": "7f68eeec",
   "metadata": {},
   "source": [
    "# Pytorch Autograd"
   ]
  },
  {
   "cell_type": "code",
   "execution_count": 12,
   "id": "19907fd8",
   "metadata": {},
   "outputs": [
    {
     "name": "stdout",
     "output_type": "stream",
     "text": [
      "Calculated Gradients\n",
      "dy/dx 2.0\n",
      "dy/dw 4.0\n",
      "dy/db 1.0\n"
     ]
    }
   ],
   "source": [
    "# Lets create some tensors, requires_grad tells Pytorch we want to store the gradients for this tensor\n",
    "# we need to do this if we are working with basic Pytorch tensors\n",
    "x = torch.FloatTensor([4])\n",
    "x.requires_grad = True\n",
    "w = torch.FloatTensor([2])\n",
    "w.requires_grad = True\n",
    "b = torch.FloatTensor([3])\n",
    "b.requires_grad = True\n",
    "\n",
    "# By performing a simple computation Pytorch will build a computational graph.\n",
    "y = w * x + b    # y = 2 * x + 3\n",
    "\n",
    "# It's easy to see that\n",
    "# dy/dx = w = 2\n",
    "# dy/dw = x = 4\n",
    "# dy/db = 1\n",
    "\n",
    "# Compute gradients via Pytorch's Autograd\n",
    "y.backward()\n",
    "\n",
    "# Print out the calculated gradients\n",
    "# These gradients are the gradients with respect to the point where we backprop'd from - y\n",
    "# Create your own equation and use the auto backprop to see the partial derivatives!\n",
    "print(\"Calculated Gradients\") \n",
    "print(\"dy/dx\", x.grad.item())    # x.grad = dy/dx = 2 \n",
    "print(\"dy/dw\", w.grad.item())    # w.grad = dy/dw = 4\n",
    "print(\"dy/db\", b.grad.item())   # b.grad = dy/db = 1  \n",
    "# Note: .item() simply returns a 0D Tensor as a Python scalar"
   ]
  },
  {
   "cell_type": "markdown",
   "id": "593bd4ee",
   "metadata": {},
   "source": [
    "### Finding the minimum"
   ]
  },
  {
   "cell_type": "code",
   "execution_count": 13,
   "id": "31dd5380",
   "metadata": {},
   "outputs": [
    {
     "data": {
      "text/plain": [
       "[<matplotlib.lines.Line2D at 0x15faf8050>]"
      ]
     },
     "execution_count": 13,
     "metadata": {},
     "output_type": "execute_result"
    },
    {
     "data": {
      "image/png": "[encoded data removed]",
      "text/plain": [
       "<Figure size 640x480 with 1 Axes>"
      ]
     },
     "metadata": {},
     "output_type": "display_data"
    }
   ],
   "source": [
    "# Lets find the minimum of a parabola!\n",
    "\n",
    "# Define the equation as a lambda function\n",
    "fx = lambda  x: x**2 + 1.5 * x - 1\n",
    "\n",
    "x = np.linspace(-10, 8.5, 100)\n",
    "\n",
    "plt.plot(x, fx(x))"
   ]
  },
  {
   "cell_type": "code",
   "execution_count": 14,
   "id": "1b0c9e63",
   "metadata": {},
   "outputs": [
    {
     "name": "stdout",
     "output_type": "stream",
     "text": [
      "dy/dx is -2.50 when x is -2.00\n"
     ]
    }
   ],
   "source": [
    "# Create a random point X\n",
    "x_ = torch.randn(1)\n",
    "x_.requires_grad = True\n",
    "\n",
    "# Lets use Pytorch's Autograd to find the gradient at this point\n",
    "y_ = fx(x_)\n",
    "y_.backward()\n",
    "\n",
    "# The gradient tells us the direction to travel to increase Y\n",
    "dy_dx_ = x_.grad.item()\n",
    "print(\"dy/dx is %.2f when x is %.2f\" % (dy_dx_, x_))"
   ]
  },
  {
   "cell_type": "code",
   "execution_count": 34,
   "id": "711106c7",
   "metadata": {},
   "outputs": [
    {
     "name": "stdout",
     "output_type": "stream",
     "text": [
      "Y minimum is -1.56 and is when X = -0.75, found after 410 steps\n"
     ]
    }
   ],
   "source": [
    "# Lets take some steps to decend the gradient!\n",
    "\n",
    "# Create a random point X\n",
    "x_ = torch.randn(1)\n",
    "x_.requires_grad = True\n",
    "\n",
    "# Create some loggers\n",
    "x_logger = []\n",
    "y_logger = []\n",
    "\n",
    "# We'll keep track of how many steps we've done\n",
    "counter = 0\n",
    "\n",
    "# Set a scale for the step size\n",
    "learning_rate = 0.01\n",
    "\n",
    "# Initialise the gradient to a large value\n",
    "dy_dx_ = 1000\n",
    "\n",
    "# We'll limit the max number of steps so we don't create an infinite loop\n",
    "max_num_steps = 1000\n",
    "\n",
    "# Keep taking steps untill the gradient is small\n",
    "while np.abs(dy_dx_) > 0.001:\n",
    "    # Get the Y point at the current x value\n",
    "    y_ = fx(x_)\n",
    "    \n",
    "    # Calculate the gradient at this point\n",
    "    y_.backward()\n",
    "    dy_dx_ = x_.grad.item()\n",
    "\n",
    "    # Pytorch will not keep track of operations within a torch.no_grad() block\n",
    "    # We don't want Pytorch to add our gradient decent step to the computational graph!\n",
    "    with torch.no_grad():\n",
    "        # Take a step down (decend) the curve\n",
    "        x_ -= learning_rate * dy_dx_\n",
    "        \n",
    "        # Pytorch will accumulate the gradient over multiple backward passes\n",
    "        # For our use case we don't want this to happen so we need to set it to zero\n",
    "        # After we have used it\n",
    "        x_.grad.zero_()\n",
    "        \n",
    "        # Log the X and Y points to plot\n",
    "        x_logger.append(x_.item())\n",
    "        y_logger.append(y_.item())\n",
    "        \n",
    "    counter += 1\n",
    "    \n",
    "    if counter == max_num_steps:\n",
    "        break\n",
    "\n",
    "print(\"Y minimum is %.2f and is when X = %.2f, found after %d steps\" % (y_.item(), x_.item(), counter))"
   ]
  },
  {
   "cell_type": "code",
   "execution_count": null,
   "id": "b9a452b4",
   "metadata": {},
   "outputs": [],
   "source": []
  },
  {
   "cell_type": "code",
   "execution_count": null,
   "id": "c4b04027",
   "metadata": {},
   "outputs": [],
   "source": []
  },
  {
   "cell_type": "code",
   "execution_count": null,
   "id": "4588d320",
   "metadata": {},
   "outputs": [],
   "source": []
  },
  {
   "cell_type": "code",
   "execution_count": null,
   "id": "071d0b5b",
   "metadata": {},
   "outputs": [],
   "source": []
  },
  {
   "cell_type": "code",
   "execution_count": null,
   "id": "d8ae4847",
   "metadata": {},
   "outputs": [],
   "source": []
  }
 ],
 "metadata": {
  "kernelspec": {
   "display_name": "pytorch_from_scratch (3.13.5)",
   "language": "python",
   "name": "python3"
  },
  "language_info": {
   "codemirror_mode": {
    "name": "ipython",
    "version": 3
   },
   "file_extension": ".py",
   "mimetype": "text/x-python",
   "name": "python",
   "nbconvert_exporter": "python",
   "pygments_lexer": "ipython3",
   "version": "3.13.5"
  }
 },
 "nbformat": 4,
 "nbformat_minor": 5
}
