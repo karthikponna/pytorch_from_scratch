{
 "cells": [
  {
   "cell_type": "code",
   "execution_count": 1,
   "id": "4b9ae996",
   "metadata": {},
   "outputs": [],
   "source": [
    "import torch\n",
    "import torchvision\n",
    "import torch.nn as nn\n",
    "import numpy as np\n",
    "import matplotlib.pyplot as plt"
   ]
  },
  {
   "cell_type": "markdown",
   "id": "d15f9ea4",
   "metadata": {},
   "source": [
    "# The Pytorch Tensor"
   ]
  },
  {
   "cell_type": "markdown",
   "id": "f399c643",
   "metadata": {},
   "source": [
    "As we've already explored the \"Tensor\" is a useful concept and is very useful in Machine Learning, however you probably noticed in Numpy that our \"Tensors\" are called \"Arrays\", but now we are in Pytorch this is no more!!\n",
    "Let's do a recap of Numpy arrays and how similar they are to Pytorch tensors."
   ]
  },
  {
   "cell_type": "code",
   "execution_count": 2,
   "id": "d1b87943",
   "metadata": {},
   "outputs": [],
   "source": [
    "# Create some \"Matrices\" as lists of lists  \n",
    "\n",
    "# 3x3\n",
    "W = [[1, 1, 1],\n",
    "     [1.5, 1.5, 1.5],\n",
    "     [2, 2, 2]]\n",
    "\n",
    "# 3x1\n",
    "x = [[6], [7], [8]]\n",
    "# 3x1\n",
    "b = [[1], [1], [1]]\n",
    "\n",
    "# Variable to store output\n",
    "# 3x1\n",
    "y = [[0], [0], [0]]"
   ]
  },
  {
   "cell_type": "code",
   "execution_count": 3,
   "id": "04f5659a",
   "metadata": {},
   "outputs": [
    {
     "name": "stdout",
     "output_type": "stream",
     "text": [
      "Output:\n",
      " [[22. ]\n",
      " [32.5]\n",
      " [43. ]]\n",
      "Output shape:\n",
      " (3, 1)\n"
     ]
    }
   ],
   "source": [
    "# We can transform our list of lists into a \"numpy array\" by using the function \"array\"\n",
    "W_np = np.array(W)\n",
    "\n",
    "x_np = np.array(x)\n",
    "\n",
    "# Lets use the function \"ones\" to create an array of ones!\n",
    "b_np = np.ones((3, 1))\n",
    "\n",
    "# Lets now compute Wx + b using these numpy variables!\n",
    "output = np.matmul(W_np, x_np) + b_np\n",
    "\n",
    "# Print out the result\n",
    "print(\"Output:\\n\", output)\n",
    "print(\"Output shape:\\n\", output.shape)"
   ]
  },
  {
   "cell_type": "markdown",
   "id": "ba8fdd04",
   "metadata": {},
   "source": [
    "Now in Pytorch!"
   ]
  },
  {
   "cell_type": "code",
   "execution_count": 4,
   "id": "bedf0783",
   "metadata": {},
   "outputs": [
    {
     "name": "stdout",
     "output_type": "stream",
     "text": [
      "Output:\n",
      " tensor([[22.0000],\n",
      "        [32.5000],\n",
      "        [43.0000]])\n",
      "Output shape:\n",
      " torch.Size([3, 1])\n"
     ]
    }
   ],
   "source": [
    "# We can transform our list of lists into a \"torch tensor\" by using the function \"FloatTensor\"\n",
    "# Note: here we've specified the datatype of the tensor, a 32bit \"float\" you can also just use the function \"tensor\"\n",
    "# But this will inherit the datatype of the array given, to ensure the data-types are the same\n",
    "# (and we can perform the wanted operations) we use \"FloatTensor\"\n",
    "\n",
    "W_torch = torch.FloatTensor(W)\n",
    "\n",
    "x_torch = torch.FloatTensor(x)\n",
    "\n",
    "# Lets use the function \"ones\" to create an array of ones!\n",
    "b_torch = torch.ones(3, 1)\n",
    "\n",
    "# Lets now compute Wx + b using these numpy variables!\n",
    "output = torch.matmul(W_torch, x_torch) + b_torch\n",
    "\n",
    "# Print out the result\n",
    "print(\"Output:\\n\", output)\n",
    "print(\"Output shape:\\n\", output.shape)"
   ]
  },
  {
   "cell_type": "code",
   "execution_count": 5,
   "id": "7900868d",
   "metadata": {},
   "outputs": [
    {
     "name": "stdout",
     "output_type": "stream",
     "text": [
      "Numpy array:\n",
      " [[0.04998083 0.05108945 0.66940982 0.98265832]\n",
      " [0.3126549  0.23211363 0.61409757 0.24353509]\n",
      " [0.54405633 0.1140301  0.96236196 0.91179791]]\n",
      "Pytorch tensor:\n",
      " tensor([[0.0500, 0.0511, 0.6694, 0.9827],\n",
      "        [0.3127, 0.2321, 0.6141, 0.2435],\n",
      "        [0.5441, 0.1140, 0.9624, 0.9118]])\n",
      "Numpy array:\n",
      " [[0.04998083 0.05108945 0.6694098  0.9826583 ]\n",
      " [0.3126549  0.23211363 0.61409754 0.24353509]\n",
      " [0.54405636 0.1140301  0.96236193 0.9117979 ]]\n"
     ]
    }
   ],
   "source": [
    "# Create a random Numpy array\n",
    "np_array = np.random.random((3, 4))\n",
    "print(\"Numpy array:\\n\", np_array)\n",
    "\n",
    "# Convert to Pytorch tensor\n",
    "torch_tensor = torch.FloatTensor(np_array)\n",
    "print(\"Pytorch tensor:\\n\", torch_tensor)\n",
    "\n",
    "# Convert back to a Numpy array!\n",
    "np_array2 = torch_tensor.numpy()\n",
    "print(\"Numpy array:\\n\", np_array2)"
   ]
  },
  {
   "cell_type": "markdown",
   "id": "f103074b",
   "metadata": {},
   "source": [
    "# On to Pytorch!"
   ]
  },
  {
   "cell_type": "markdown",
   "id": "79ceb497",
   "metadata": {},
   "source": [
    "### Basic Element-wise Operations"
   ]
  },
  {
   "cell_type": "code",
   "execution_count": 6,
   "id": "41f38c3c",
   "metadata": {},
   "outputs": [
    {
     "name": "stdout",
     "output_type": "stream",
     "text": [
      "Our 1D Tensor:\n",
      " tensor([[0.7856, 0.0087, 0.6464, 0.1751, 0.0487],\n",
      "        [0.8377, 0.2979, 0.0310, 0.0183, 0.1674],\n",
      "        [0.6826, 0.3448, 0.1176, 0.8867, 0.0715],\n",
      "        [0.1204, 0.9684, 0.1153, 0.0730, 0.0555]])\n",
      "\n",
      "Scalar Multiplication:\n",
      " tensor([[7.8564, 0.0870, 6.4638, 1.7511, 0.4869],\n",
      "        [8.3767, 2.9785, 0.3102, 0.1825, 1.6736],\n",
      "        [6.8257, 3.4485, 1.1756, 8.8671, 0.7150],\n",
      "        [1.2041, 9.6842, 1.1530, 0.7302, 0.5552]])\n",
      "Addition and Square:\n",
      " tensor([[3.1885, 1.0175, 2.7106, 1.3809, 1.0998],\n",
      "        [3.3770, 1.6844, 1.0630, 1.0368, 1.3627],\n",
      "        [2.8310, 1.8086, 1.2489, 3.5597, 1.1481],\n",
      "        [1.2553, 3.8747, 1.2439, 1.1514, 1.1141]])\n",
      "Addition:\n",
      " tensor([[1.5713, 0.0174, 1.2928, 0.3502, 0.0974],\n",
      "        [1.6753, 0.5957, 0.0620, 0.0365, 0.3347],\n",
      "        [1.3651, 0.6897, 0.2351, 1.7734, 0.1430],\n",
      "        [0.2408, 1.9368, 0.2306, 0.1460, 0.1110]])\n",
      "Addition and division:\n",
      " tensor([[0.4400, 0.0086, 0.3926, 0.1490, 0.0464],\n",
      "        [0.4558, 0.2295, 0.0301, 0.0179, 0.1434],\n",
      "        [0.4057, 0.2564, 0.1052, 0.4700, 0.0667],\n",
      "        [0.1075, 0.4920, 0.1034, 0.0681, 0.0526]])\n",
      "\n",
      "Power and square root:\n",
      " tensor([[0.7856, 0.0087, 0.6464, 0.1751, 0.0487],\n",
      "        [0.8377, 0.2979, 0.0310, 0.0183, 0.1674],\n",
      "        [0.6826, 0.3448, 0.1176, 0.8867, 0.0715],\n",
      "        [0.1204, 0.9684, 0.1153, 0.0730, 0.0555]])\n",
      "\n",
      "Y -\n",
      " Min:0.01\n",
      " Max:0.97\n",
      " Standard Deviation:0.34\n",
      " Sum:6.45\n"
     ]
    }
   ],
   "source": [
    "# Lets create a 2D Tensor using torch.rand\n",
    "y = torch.rand(4, 5)\n",
    "# This will create a \"Vector\" of numbers from 0 to 1\n",
    "print(\"Our 1D Tensor:\\n\",y)\n",
    "\n",
    "# We can perform normal python scalar arithmetic on Torch tensors\n",
    "print(\"\\nScalar Multiplication:\\n\",y * 10)\n",
    "print(\"Addition and Square:\\n\",(y + 1)**2)\n",
    "print(\"Addition:\\n\",y + y)\n",
    "print(\"Addition and division:\\n\",y / (y + 1))\n",
    "\n",
    "# We can use a combination of Torch functions and normal python arithmetic\n",
    "print(\"\\nPower and square root:\\n\",torch.sqrt(y**2))\n",
    "\n",
    "# Torch tensors are objects and have functions\n",
    "print(\"\\nY -\\n Min:%.2f\\n Max:%.2f\\n Standard Deviation:%.2f\\n Sum:%.2f\" %(y.min(), y.max(), y.std(), y.sum()))"
   ]
  },
  {
   "cell_type": "markdown",
   "id": "3d1acbdc",
   "metadata": {},
   "source": [
    "### Tensor Opperations"
   ]
  },
  {
   "cell_type": "code",
   "execution_count": 7,
   "id": "d1f636bd",
   "metadata": {},
   "outputs": [
    {
     "name": "stdout",
     "output_type": "stream",
     "text": [
      "Addition:\n",
      " tensor([[[0.8980, 0.7950, 1.2157],\n",
      "         [1.3854, 0.2608, 0.8229],\n",
      "         [0.4458, 0.9224, 0.1462]],\n",
      "\n",
      "        [[0.2279, 0.4434, 0.8502],\n",
      "         [1.7449, 1.1376, 1.3063],\n",
      "         [0.9939, 0.6913, 0.7385]],\n",
      "\n",
      "        [[0.3326, 0.7687, 0.4036],\n",
      "         [0.7845, 0.6947, 0.8461],\n",
      "         [0.5647, 1.0829, 1.3665]]])\n",
      "Batch Multiplication:\n",
      " tensor([[[0.4158, 0.4239, 0.4428],\n",
      "         [0.3209, 0.4571, 0.3742],\n",
      "         [0.6280, 0.2130, 0.6301]],\n",
      "\n",
      "        [[0.4430, 0.1491, 0.3554],\n",
      "         [1.2688, 0.5187, 1.1926],\n",
      "         [0.7508, 0.3520, 0.5939]],\n",
      "\n",
      "        [[0.0978, 0.3691, 0.3353],\n",
      "         [0.0987, 0.5428, 0.3830],\n",
      "         [0.3042, 0.7833, 0.9283]]])\n"
     ]
    }
   ],
   "source": [
    "# Create two 3D Tensors\n",
    "tensor_1 = torch.rand(3,3,3)\n",
    "tensor_2 = torch.rand(3,3,3)\n",
    "\n",
    "# Add the 2 Tensors\n",
    "print(\"Addition:\\n\",tensor_1 + tensor_2)\n",
    "\n",
    "# We cannot perform a normal \"matrix\" multiplication on a 3D tensor\n",
    "# But we can treat the 3D tensor as a \"batch\" (like a stack) of 2D tensors\n",
    "# And perform normal matrix multiplication independantly on each pair of 2D matricies\n",
    "print(\"Batch Multiplication:\\n\", torch.bmm(tensor_1, tensor_2))"
   ]
  },
  {
   "cell_type": "code",
   "execution_count": 8,
   "id": "bab998ad",
   "metadata": {},
   "outputs": [
    {
     "name": "stdout",
     "output_type": "stream",
     "text": [
      "\n",
      "The origional Tensor is is:\n",
      " tensor([[[3.8705e-01, 6.7396e-03, 9.9135e-01, 1.2924e-01, 8.5309e-01],\n",
      "         [4.9238e-01, 1.4174e-01, 5.7568e-01, 7.5200e-01, 1.6338e-01],\n",
      "         [1.3047e-01, 1.4775e-01, 7.6955e-01, 6.8598e-01, 3.6063e-01],\n",
      "         [9.9317e-01, 7.6064e-01, 3.3542e-01, 7.0333e-01, 9.5751e-01]],\n",
      "\n",
      "        [[7.2515e-02, 5.9958e-01, 2.9763e-01, 3.2070e-01, 8.5064e-01],\n",
      "         [1.8915e-01, 6.5432e-01, 6.5786e-04, 8.5190e-01, 4.1466e-01],\n",
      "         [5.4918e-01, 7.5986e-01, 4.5525e-01, 5.3897e-01, 4.5852e-01],\n",
      "         [6.3609e-01, 8.1959e-01, 5.0993e-01, 5.4927e-01, 6.6933e-01]]])\n",
      "With shape:\n",
      " torch.Size([2, 4, 5])\n",
      "The Re-arranged is:\n",
      " tensor([[[3.8705e-01, 7.2515e-02],\n",
      "         [4.9238e-01, 1.8915e-01],\n",
      "         [1.3047e-01, 5.4918e-01],\n",
      "         [9.9317e-01, 6.3609e-01]],\n",
      "\n",
      "        [[6.7396e-03, 5.9958e-01],\n",
      "         [1.4174e-01, 6.5432e-01],\n",
      "         [1.4775e-01, 7.5986e-01],\n",
      "         [7.6064e-01, 8.1959e-01]],\n",
      "\n",
      "        [[9.9135e-01, 2.9763e-01],\n",
      "         [5.7568e-01, 6.5786e-04],\n",
      "         [7.6955e-01, 4.5525e-01],\n",
      "         [3.3542e-01, 5.0993e-01]],\n",
      "\n",
      "        [[1.2924e-01, 3.2070e-01],\n",
      "         [7.5200e-01, 8.5190e-01],\n",
      "         [6.8598e-01, 5.3897e-01],\n",
      "         [7.0333e-01, 5.4927e-01]],\n",
      "\n",
      "        [[8.5309e-01, 8.5064e-01],\n",
      "         [1.6338e-01, 4.1466e-01],\n",
      "         [3.6063e-01, 4.5852e-01],\n",
      "         [9.5751e-01, 6.6933e-01]]])\n",
      "With shape:\n",
      " torch.Size([5, 4, 2])\n"
     ]
    }
   ],
   "source": [
    "# Lets create a more interesting tensor\n",
    "tensor_3 = torch.rand(2,4,5)\n",
    "# We can swap the Tensor dimensions\n",
    "print(\"\\nThe origional Tensor is is:\\n\", tensor_3)\n",
    "print(\"With shape:\\n\", tensor_3.shape)\n",
    "\n",
    "# Tranpose will swap the dimensions it is given\n",
    "print(\"The Re-arranged is:\\n\", tensor_3.transpose(0,2))\n",
    "print(\"With shape:\\n\", tensor_3.transpose(0,2).shape)"
   ]
  },
  {
   "cell_type": "code",
   "execution_count": 9,
   "id": "45931933",
   "metadata": {},
   "outputs": [
    {
     "name": "stdout",
     "output_type": "stream",
     "text": [
      "The Tensors shape is: torch.Size([3, 2])\n",
      "Add an empty dimenson to dim3: torch.Size([3, 2, 1])\n",
      "Add an empty dimenson to dim2: torch.Size([3, 1, 2])\n"
     ]
    }
   ],
   "source": [
    "# Lets create a 2D Tensor\n",
    "tensor = torch.rand(3, 2)\n",
    "\n",
    "# View the Number of elements in every dimension\n",
    "print(\"The Tensors shape is:\", tensor.shape)\n",
    "\n",
    "# Unsqueeze adds an \"empty\" dimension to our Tensor\n",
    "print(\"Add an empty dimenson to dim3:\", tensor.unsqueeze(2).shape)\n",
    "\n",
    "# Unsqueeze adds an \"empty\" dimension to our Tensor\n",
    "print(\"Add an empty dimenson to dim2:\", tensor.unsqueeze(1).shape)"
   ]
  },
  {
   "cell_type": "code",
   "execution_count": 10,
   "id": "0814759e",
   "metadata": {},
   "outputs": [
    {
     "name": "stdout",
     "output_type": "stream",
     "text": [
      "The Tensors shape is: torch.Size([1, 3, 1, 2])\n",
      "Remove empty dimenson dim3: torch.Size([1, 3, 2])\n",
      "Remove empty dimenson dim0: torch.Size([3, 1, 2])\n",
      "Remove all empty dimensons: torch.Size([3, 2])\n"
     ]
    }
   ],
   "source": [
    "# Lets create a 4D Tensor with a few \"empty\" dimensions\n",
    "tensor = torch.rand(1, 3, 1, 2)\n",
    "\n",
    "# view the Number of elements in every dimension\n",
    "print(\"The Tensors shape is:\", tensor.shape)\n",
    "\n",
    "# squeeze removes an \"empty\" dimension from our Tensor\n",
    "print(\"Remove empty dimenson dim3:\", tensor.squeeze(2).shape)\n",
    "\n",
    "# squeeze removes an \"empty\" dimension from our Tensor\n",
    "print(\"Remove empty dimenson dim0:\", tensor.squeeze(0).shape)\n",
    "\n",
    "# If we don't specify a dimension, squeeze will remove ALL empty dimensions\n",
    "print(\"Remove all empty dimensons:\", tensor.squeeze().shape)"
   ]
  },
  {
   "cell_type": "code",
   "execution_count": 11,
   "id": "652337e5",
   "metadata": {},
   "outputs": [
    {
     "name": "stdout",
     "output_type": "stream",
     "text": [
      "Tensor 1 shape:\n",
      " torch.Size([1, 4, 3, 1])\n",
      "Tensor 2 shape:\n",
      " torch.Size([3, 4, 1, 4])\n",
      "The resulting shape is:\n",
      " torch.Size([3, 4, 3, 4])\n"
     ]
    }
   ],
   "source": [
    "# Lets create 2 differently shaped 4D Tensors (Matrices)\n",
    "tensor1 = torch.rand(1, 4, 3, 1)\n",
    "tensor2 = torch.rand(3, 4, 1, 4)\n",
    "\n",
    "print(\"Tensor 1 shape:\\n\", tensor1.shape)\n",
    "print(\"Tensor 2 shape:\\n\", tensor2.shape)\n",
    "\n",
    "tensor3 = tensor1 + tensor2\n",
    "\n",
    "print(\"The resulting shape is:\\n\", tensor3.shape)"
   ]
  },
  {
   "cell_type": "markdown",
   "id": "7f68eeec",
   "metadata": {},
   "source": [
    "# Pytorch Autograd"
   ]
  },
  {
   "cell_type": "code",
   "execution_count": 13,
   "id": "19907fd8",
   "metadata": {},
   "outputs": [
    {
     "name": "stdout",
     "output_type": "stream",
     "text": [
      "Calculated Gradients\n",
      "dy/dx 2.0\n",
      "dy/dw 4.0\n",
      "dy/db 1.0\n"
     ]
    }
   ],
   "source": [
    "# Lets create some tensors, requires_grad tells Pytorch we want to store the gradients for this tensor\n",
    "# we need to do this if we are working with basic Pytorch tensors\n",
    "x = torch.FloatTensor([4])\n",
    "x.requires_grad = True\n",
    "w = torch.FloatTensor([2])\n",
    "w.requires_grad = True\n",
    "b = torch.FloatTensor([3])\n",
    "b.requires_grad = True\n",
    "\n",
    "# By performing a simple computation Pytorch will build a computational graph.\n",
    "y = w * x + b    # y = 2 * x + 3\n",
    "\n",
    "# It's easy to see that\n",
    "# dy/dx = w = 2\n",
    "# dy/dw = x = 4\n",
    "# dy/db = 1\n",
    "\n",
    "# Compute gradients via Pytorch's Autograd\n",
    "y.backward()\n",
    "\n",
    "# Print out the calculated gradients\n",
    "# These gradients are the gradients with respect to the point where we backprop'd from - y\n",
    "# Create your own equation and use the auto backprop to see the partial derivatives!\n",
    "print(\"Calculated Gradients\") \n",
    "print(\"dy/dx\", x.grad.item())    # x.grad = dy/dx = 2 \n",
    "print(\"dy/dw\", w.grad.item())    # w.grad = dy/dw = 4\n",
    "print(\"dy/db\", b.grad.item())   # b.grad = dy/db = 1  \n",
    "# Note: .item() simply returns a 0D Tensor as a Python scalar"
   ]
  },
  {
   "cell_type": "markdown",
   "id": "593bd4ee",
   "metadata": {},
   "source": [
    "### Finding the minimum"
   ]
  },
  {
   "cell_type": "code",
   "execution_count": 14,
   "id": "31dd5380",
   "metadata": {},
   "outputs": [
    {
     "data": {
      "text/plain": [
       "[<matplotlib.lines.Line2D at 0x1433f5a90>]"
      ]
     },
     "execution_count": 14,
     "metadata": {},
     "output_type": "execute_result"
    },
    {
     "data": {
      "image/png": "[encoded data removed]",
      "text/plain": [
       "<Figure size 640x480 with 1 Axes>"
      ]
     },
     "metadata": {},
     "output_type": "display_data"
    }
   ],
   "source": [
    "# Lets find the minimum of a parabola!\n",
    "\n",
    "# Define the equation as a lambda function\n",
    "fx = lambda  x: x**2 + 1.5 * x - 1\n",
    "\n",
    "x = np.linspace(-10, 8.5, 100)\n",
    "\n",
    "plt.plot(x, fx(x))"
   ]
  },
  {
   "cell_type": "code",
   "execution_count": 17,
   "id": "1b0c9e63",
   "metadata": {},
   "outputs": [
    {
     "name": "stdout",
     "output_type": "stream",
     "text": [
      "dy/dx is 2.90 when x is 0.70\n"
     ]
    }
   ],
   "source": [
    "# Create a random point X\n",
    "x_ = torch.randn(1)\n",
    "x_.requires_grad = True\n",
    "\n",
    "# Lets use Pytorch's Autograd to find the gradient at this point\n",
    "y_ = fx(x_)\n",
    "y_.backward()\n",
    "\n",
    "# The gradient tells us the direction to travel to increase Y\n",
    "dy_dx_ = x_.grad.item()\n",
    "print(\"dy/dx is %.2f when x is %.2f\" % (dy_dx_, x_))"
   ]
  },
  {
   "cell_type": "code",
   "execution_count": null,
   "id": "711106c7",
   "metadata": {},
   "outputs": [],
   "source": []
  },
  {
   "cell_type": "code",
   "execution_count": null,
   "id": "b9a452b4",
   "metadata": {},
   "outputs": [],
   "source": []
  },
  {
   "cell_type": "code",
   "execution_count": null,
   "id": "c4b04027",
   "metadata": {},
   "outputs": [],
   "source": []
  },
  {
   "cell_type": "code",
   "execution_count": null,
   "id": "4588d320",
   "metadata": {},
   "outputs": [],
   "source": []
  },
  {
   "cell_type": "code",
   "execution_count": null,
   "id": "071d0b5b",
   "metadata": {},
   "outputs": [],
   "source": []
  },
  {
   "cell_type": "code",
   "execution_count": null,
   "id": "d8ae4847",
   "metadata": {},
   "outputs": [],
   "source": []
  }
 ],
 "metadata": {
  "kernelspec": {
   "display_name": "pytorch_from_scratch (3.13.5)",
   "language": "python",
   "name": "python3"
  },
  "language_info": {
   "codemirror_mode": {
    "name": "ipython",
    "version": 3
   },
   "file_extension": ".py",
   "mimetype": "text/x-python",
   "name": "python",
   "nbconvert_exporter": "python",
   "pygments_lexer": "ipython3",
   "version": "3.13.5"
  }
 },
 "nbformat": 4,
 "nbformat_minor": 5
}
