{
 "cells": [
  {
   "cell_type": "code",
   "execution_count": 1,
   "id": "4b9ae996",
   "metadata": {},
   "outputs": [],
   "source": [
    "import torch\n",
    "import torchvision\n",
    "import torch.nn as nn\n",
    "import numpy as np\n",
    "import matplotlib.pyplot as plt"
   ]
  },
  {
   "cell_type": "markdown",
   "id": "d15f9ea4",
   "metadata": {},
   "source": [
    "# The Pytorch Tensor"
   ]
  },
  {
   "cell_type": "markdown",
   "id": "f399c643",
   "metadata": {},
   "source": [
    "As we've already explored the \"Tensor\" is a useful concept and is very useful in Machine Learning, however you probably noticed in Numpy that our \"Tensors\" are called \"Arrays\", but now we are in Pytorch this is no more!!\n",
    "Let's do a recap of Numpy arrays and how similar they are to Pytorch tensors."
   ]
  },
  {
   "cell_type": "code",
   "execution_count": 2,
   "id": "d1b87943",
   "metadata": {},
   "outputs": [],
   "source": [
    "# Create some \"Matrices\" as lists of lists  \n",
    "\n",
    "# 3x3\n",
    "W = [[1, 1, 1],\n",
    "     [1.5, 1.5, 1.5],\n",
    "     [2, 2, 2]]\n",
    "\n",
    "# 3x1\n",
    "x = [[6], [7], [8]]\n",
    "# 3x1\n",
    "b = [[1], [1], [1]]\n",
    "\n",
    "# Variable to store output\n",
    "# 3x1\n",
    "y = [[0], [0], [0]]"
   ]
  },
  {
   "cell_type": "code",
   "execution_count": 3,
   "id": "04f5659a",
   "metadata": {},
   "outputs": [
    {
     "name": "stdout",
     "output_type": "stream",
     "text": [
      "Output:\n",
      " [[22. ]\n",
      " [32.5]\n",
      " [43. ]]\n",
      "Output shape:\n",
      " (3, 1)\n"
     ]
    }
   ],
   "source": [
    "# We can transform our list of lists into a \"numpy array\" by using the function \"array\"\n",
    "W_np = np.array(W)\n",
    "\n",
    "x_np = np.array(x)\n",
    "\n",
    "# Lets use the function \"ones\" to create an array of ones!\n",
    "b_np = np.ones((3, 1))\n",
    "\n",
    "# Lets now compute Wx + b using these numpy variables!\n",
    "output = np.matmul(W_np, x_np) + b_np\n",
    "\n",
    "# Print out the result\n",
    "print(\"Output:\\n\", output)\n",
    "print(\"Output shape:\\n\", output.shape)"
   ]
  },
  {
   "cell_type": "markdown",
   "id": "ba8fdd04",
   "metadata": {},
   "source": [
    "Now in Pytorch!"
   ]
  },
  {
   "cell_type": "code",
   "execution_count": 4,
   "id": "bedf0783",
   "metadata": {},
   "outputs": [
    {
     "name": "stdout",
     "output_type": "stream",
     "text": [
      "Output:\n",
      " tensor([[22.0000],\n",
      "        [32.5000],\n",
      "        [43.0000]])\n",
      "Output shape:\n",
      " torch.Size([3, 1])\n"
     ]
    }
   ],
   "source": [
    "# We can transform our list of lists into a \"torch tensor\" by using the function \"FloatTensor\"\n",
    "# Note: here we've specified the datatype of the tensor, a 32bit \"float\" you can also just use the function \"tensor\"\n",
    "# But this will inherit the datatype of the array given, to ensure the data-types are the same\n",
    "# (and we can perform the wanted operations) we use \"FloatTensor\"\n",
    "\n",
    "W_torch = torch.FloatTensor(W)\n",
    "\n",
    "x_torch = torch.FloatTensor(x)\n",
    "\n",
    "# Lets use the function \"ones\" to create an array of ones!\n",
    "b_torch = torch.ones(3, 1)\n",
    "\n",
    "# Lets now compute Wx + b using these numpy variables!\n",
    "output = torch.matmul(W_torch, x_torch) + b_torch\n",
    "\n",
    "# Print out the result\n",
    "print(\"Output:\\n\", output)\n",
    "print(\"Output shape:\\n\", output.shape)"
   ]
  },
  {
   "cell_type": "code",
   "execution_count": 5,
   "id": "7900868d",
   "metadata": {},
   "outputs": [
    {
     "name": "stdout",
     "output_type": "stream",
     "text": [
      "Numpy array:\n",
      " [[0.76640817 0.85541004 0.25723197 0.37059769]\n",
      " [0.93366588 0.2866114  0.50014405 0.76312133]\n",
      " [0.69533851 0.0326273  0.53710684 0.90561869]]\n",
      "Pytorch tensor:\n",
      " tensor([[0.7664, 0.8554, 0.2572, 0.3706],\n",
      "        [0.9337, 0.2866, 0.5001, 0.7631],\n",
      "        [0.6953, 0.0326, 0.5371, 0.9056]])\n",
      "Numpy array:\n",
      " [[0.76640815 0.85541004 0.25723195 0.3705977 ]\n",
      " [0.9336659  0.2866114  0.50014406 0.7631213 ]\n",
      " [0.6953385  0.0326273  0.5371068  0.90561867]]\n"
     ]
    }
   ],
   "source": [
    "# Create a random Numpy array\n",
    "np_array = np.random.random((3, 4))\n",
    "print(\"Numpy array:\\n\", np_array)\n",
    "\n",
    "# Convert to Pytorch tensor\n",
    "torch_tensor = torch.FloatTensor(np_array)\n",
    "print(\"Pytorch tensor:\\n\", torch_tensor)\n",
    "\n",
    "# Convert back to a Numpy array!\n",
    "np_array2 = torch_tensor.numpy()\n",
    "print(\"Numpy array:\\n\", np_array2)"
   ]
  },
  {
   "cell_type": "markdown",
   "id": "f103074b",
   "metadata": {},
   "source": [
    "# On to Pytorch!"
   ]
  },
  {
   "cell_type": "markdown",
   "id": "79ceb497",
   "metadata": {},
   "source": [
    "### Basic Element-wise Operations"
   ]
  },
  {
   "cell_type": "code",
   "execution_count": 6,
   "id": "41f38c3c",
   "metadata": {},
   "outputs": [
    {
     "name": "stdout",
     "output_type": "stream",
     "text": [
      "Our 1D Tensor:\n",
      " tensor([[0.7144, 0.0079, 0.4662, 0.6847, 0.7110],\n",
      "        [0.2405, 0.7468, 0.2264, 0.2958, 0.1670],\n",
      "        [0.5946, 0.0902, 0.6495, 0.4313, 0.4967],\n",
      "        [0.5198, 0.9067, 0.0469, 0.0406, 0.6376]])\n",
      "\n",
      "Scalar Multiplication:\n",
      " tensor([[7.1437, 0.0788, 4.6621, 6.8474, 7.1096],\n",
      "        [2.4051, 7.4676, 2.2636, 2.9585, 1.6698],\n",
      "        [5.9455, 0.9019, 6.4953, 4.3131, 4.9674],\n",
      "        [5.1977, 9.0670, 0.4686, 0.4059, 6.3755]])\n",
      "Addition and Square:\n",
      " tensor([[2.9391, 1.0158, 2.1498, 2.8383, 2.9274],\n",
      "        [1.5389, 3.0512, 1.5040, 1.6792, 1.3618],\n",
      "        [2.5426, 1.1885, 2.7210, 2.0487, 2.2402],\n",
      "        [2.3097, 3.6355, 1.0959, 1.0828, 2.6816]])\n",
      "Addition:\n",
      " tensor([[1.4287, 0.0158, 0.9324, 1.3695, 1.4219],\n",
      "        [0.4810, 1.4935, 0.4527, 0.5917, 0.3340],\n",
      "        [1.1891, 0.1804, 1.2991, 0.8626, 0.9935],\n",
      "        [1.0395, 1.8134, 0.0937, 0.0812, 1.2751]])\n",
      "Addition and division:\n",
      " tensor([[0.4167, 0.0078, 0.3180, 0.4064, 0.4155],\n",
      "        [0.1939, 0.4275, 0.1846, 0.2283, 0.1431],\n",
      "        [0.3729, 0.0827, 0.3938, 0.3013, 0.3319],\n",
      "        [0.3420, 0.4755, 0.0448, 0.0390, 0.3893]])\n",
      "\n",
      "Power and square root:\n",
      " tensor([[0.7144, 0.0079, 0.4662, 0.6847, 0.7110],\n",
      "        [0.2405, 0.7468, 0.2264, 0.2958, 0.1670],\n",
      "        [0.5946, 0.0902, 0.6495, 0.4313, 0.4967],\n",
      "        [0.5198, 0.9067, 0.0469, 0.0406, 0.6376]])\n",
      "\n",
      "Y -\n",
      " Min:0.01\n",
      " Max:0.91\n",
      " Standard Deviation:0.28\n",
      " Sum:8.67\n"
     ]
    }
   ],
   "source": [
    "# Lets create a 2D Tensor using torch.rand\n",
    "y = torch.rand(4, 5)\n",
    "# This will create a \"Vector\" of numbers from 0 to 1\n",
    "print(\"Our 1D Tensor:\\n\",y)\n",
    "\n",
    "# We can perform normal python scalar arithmetic on Torch tensors\n",
    "print(\"\\nScalar Multiplication:\\n\",y * 10)\n",
    "print(\"Addition and Square:\\n\",(y + 1)**2)\n",
    "print(\"Addition:\\n\",y + y)\n",
    "print(\"Addition and division:\\n\",y / (y + 1))\n",
    "\n",
    "# We can use a combination of Torch functions and normal python arithmetic\n",
    "print(\"\\nPower and square root:\\n\",torch.sqrt(y**2))\n",
    "\n",
    "# Torch tensors are objects and have functions\n",
    "print(\"\\nY -\\n Min:%.2f\\n Max:%.2f\\n Standard Deviation:%.2f\\n Sum:%.2f\" %(y.min(), y.max(), y.std(), y.sum()))"
   ]
  },
  {
   "cell_type": "markdown",
   "id": "3d1acbdc",
   "metadata": {},
   "source": [
    "### Tensor Opperations"
   ]
  },
  {
   "cell_type": "code",
   "execution_count": 7,
   "id": "d1f636bd",
   "metadata": {},
   "outputs": [
    {
     "name": "stdout",
     "output_type": "stream",
     "text": [
      "Addition:\n",
      " tensor([[[0.7146, 1.0001, 1.5261],\n",
      "         [1.0963, 1.3729, 0.9445],\n",
      "         [0.9579, 1.3622, 1.3227]],\n",
      "\n",
      "        [[0.7653, 0.6280, 1.2156],\n",
      "         [0.6094, 1.4813, 1.3763],\n",
      "         [1.6987, 1.5045, 0.9818]],\n",
      "\n",
      "        [[1.0300, 1.2584, 0.8388],\n",
      "         [1.0492, 0.8732, 1.2040],\n",
      "         [1.1455, 1.4250, 0.5757]]])\n",
      "Batch Multiplication:\n",
      " tensor([[[0.5627, 0.9781, 1.1698],\n",
      "         [0.9427, 1.1173, 1.0332],\n",
      "         [0.7177, 1.0688, 1.1963]],\n",
      "\n",
      "        [[0.8565, 0.8164, 0.2214],\n",
      "         [1.1380, 1.3651, 0.5242],\n",
      "         [1.3180, 1.5556, 0.6958]],\n",
      "\n",
      "        [[1.2960, 1.5717, 1.1901],\n",
      "         [0.3709, 0.4188, 0.2047],\n",
      "         [0.8509, 0.7871, 0.5801]]])\n"
     ]
    }
   ],
   "source": [
    "# Create two 3D Tensors\n",
    "tensor_1 = torch.rand(3,3,3)\n",
    "tensor_2 = torch.rand(3,3,3)\n",
    "\n",
    "# Add the 2 Tensors\n",
    "print(\"Addition:\\n\",tensor_1 + tensor_2)\n",
    "\n",
    "# We cannot perform a normal \"matrix\" multiplication on a 3D tensor\n",
    "# But we can treat the 3D tensor as a \"batch\" (like a stack) of 2D tensors\n",
    "# And perform normal matrix multiplication independantly on each pair of 2D matricies\n",
    "print(\"Batch Multiplication:\\n\", torch.bmm(tensor_1, tensor_2))"
   ]
  },
  {
   "cell_type": "code",
   "execution_count": 8,
   "id": "bab998ad",
   "metadata": {},
   "outputs": [
    {
     "name": "stdout",
     "output_type": "stream",
     "text": [
      "\n",
      "The origional Tensor is is:\n",
      " tensor([[[0.5117, 0.3487, 0.5408, 0.5091, 0.1264],\n",
      "         [0.2356, 0.1533, 0.6542, 0.8206, 0.2142],\n",
      "         [0.8137, 0.4350, 0.5843, 0.9452, 0.2746],\n",
      "         [0.5138, 0.5669, 0.4630, 0.7579, 0.1719]],\n",
      "\n",
      "        [[0.3228, 0.3491, 0.3305, 0.8338, 0.4240],\n",
      "         [0.9159, 0.3092, 0.3467, 0.8309, 0.6767],\n",
      "         [0.9993, 0.8506, 0.4354, 0.1816, 0.2539],\n",
      "         [0.8753, 0.2304, 0.0096, 0.5243, 0.2517]]])\n",
      "With shape:\n",
      " torch.Size([2, 4, 5])\n",
      "The Re-arranged is:\n",
      " tensor([[[0.5117, 0.3228],\n",
      "         [0.2356, 0.9159],\n",
      "         [0.8137, 0.9993],\n",
      "         [0.5138, 0.8753]],\n",
      "\n",
      "        [[0.3487, 0.3491],\n",
      "         [0.1533, 0.3092],\n",
      "         [0.4350, 0.8506],\n",
      "         [0.5669, 0.2304]],\n",
      "\n",
      "        [[0.5408, 0.3305],\n",
      "         [0.6542, 0.3467],\n",
      "         [0.5843, 0.4354],\n",
      "         [0.4630, 0.0096]],\n",
      "\n",
      "        [[0.5091, 0.8338],\n",
      "         [0.8206, 0.8309],\n",
      "         [0.9452, 0.1816],\n",
      "         [0.7579, 0.5243]],\n",
      "\n",
      "        [[0.1264, 0.4240],\n",
      "         [0.2142, 0.6767],\n",
      "         [0.2746, 0.2539],\n",
      "         [0.1719, 0.2517]]])\n",
      "With shape:\n",
      " torch.Size([5, 4, 2])\n"
     ]
    }
   ],
   "source": [
    "# Lets create a more interesting tensor\n",
    "tensor_3 = torch.rand(2,4,5)\n",
    "# We can swap the Tensor dimensions\n",
    "print(\"\\nThe origional Tensor is is:\\n\", tensor_3)\n",
    "print(\"With shape:\\n\", tensor_3.shape)\n",
    "\n",
    "# Tranpose will swap the dimensions it is given\n",
    "print(\"The Re-arranged is:\\n\", tensor_3.transpose(0,2))\n",
    "print(\"With shape:\\n\", tensor_3.transpose(0,2).shape)"
   ]
  },
  {
   "cell_type": "code",
   "execution_count": 9,
   "id": "45931933",
   "metadata": {},
   "outputs": [
    {
     "name": "stdout",
     "output_type": "stream",
     "text": [
      "The Tensors shape is: torch.Size([3, 2])\n",
      "Add an empty dimenson to dim3: torch.Size([3, 2, 1])\n",
      "Add an empty dimenson to dim2: torch.Size([3, 1, 2])\n"
     ]
    }
   ],
   "source": [
    "# Lets create a 2D Tensor\n",
    "tensor = torch.rand(3, 2)\n",
    "\n",
    "# View the Number of elements in every dimension\n",
    "print(\"The Tensors shape is:\", tensor.shape)\n",
    "\n",
    "# Unsqueeze adds an \"empty\" dimension to our Tensor\n",
    "print(\"Add an empty dimenson to dim3:\", tensor.unsqueeze(2).shape)\n",
    "\n",
    "# Unsqueeze adds an \"empty\" dimension to our Tensor\n",
    "print(\"Add an empty dimenson to dim2:\", tensor.unsqueeze(1).shape)"
   ]
  },
  {
   "cell_type": "code",
   "execution_count": 10,
   "id": "0814759e",
   "metadata": {},
   "outputs": [
    {
     "name": "stdout",
     "output_type": "stream",
     "text": [
      "The Tensors shape is: torch.Size([1, 3, 1, 2])\n",
      "Remove empty dimenson dim3: torch.Size([1, 3, 2])\n",
      "Remove empty dimenson dim0: torch.Size([3, 1, 2])\n",
      "Remove all empty dimensons: torch.Size([3, 2])\n"
     ]
    }
   ],
   "source": [
    "# Lets create a 4D Tensor with a few \"empty\" dimensions\n",
    "tensor = torch.rand(1, 3, 1, 2)\n",
    "\n",
    "# view the Number of elements in every dimension\n",
    "print(\"The Tensors shape is:\", tensor.shape)\n",
    "\n",
    "# squeeze removes an \"empty\" dimension from our Tensor\n",
    "print(\"Remove empty dimenson dim3:\", tensor.squeeze(2).shape)\n",
    "\n",
    "# squeeze removes an \"empty\" dimension from our Tensor\n",
    "print(\"Remove empty dimenson dim0:\", tensor.squeeze(0).shape)\n",
    "\n",
    "# If we don't specify a dimension, squeeze will remove ALL empty dimensions\n",
    "print(\"Remove all empty dimensons:\", tensor.squeeze().shape)"
   ]
  },
  {
   "cell_type": "code",
   "execution_count": 11,
   "id": "652337e5",
   "metadata": {},
   "outputs": [
    {
     "name": "stdout",
     "output_type": "stream",
     "text": [
      "Tensor 1 shape:\n",
      " torch.Size([1, 4, 3, 1])\n",
      "Tensor 2 shape:\n",
      " torch.Size([3, 4, 1, 4])\n",
      "The resulting shape is:\n",
      " torch.Size([3, 4, 3, 4])\n"
     ]
    }
   ],
   "source": [
    "# Lets create 2 differently shaped 4D Tensors (Matrices)\n",
    "tensor1 = torch.rand(1, 4, 3, 1)\n",
    "tensor2 = torch.rand(3, 4, 1, 4)\n",
    "\n",
    "print(\"Tensor 1 shape:\\n\", tensor1.shape)\n",
    "print(\"Tensor 2 shape:\\n\", tensor2.shape)\n",
    "\n",
    "tensor3 = tensor1 + tensor2\n",
    "\n",
    "print(\"The resulting shape is:\\n\", tensor3.shape)"
   ]
  },
  {
   "cell_type": "code",
   "execution_count": null,
   "id": "19907fd8",
   "metadata": {},
   "outputs": [],
   "source": []
  },
  {
   "cell_type": "code",
   "execution_count": null,
   "id": "d8ae4847",
   "metadata": {},
   "outputs": [],
   "source": []
  }
 ],
 "metadata": {
  "kernelspec": {
   "display_name": "pytorch_from_scratch (3.13.5)",
   "language": "python",
   "name": "python3"
  },
  "language_info": {
   "codemirror_mode": {
    "name": "ipython",
    "version": 3
   },
   "file_extension": ".py",
   "mimetype": "text/x-python",
   "name": "python",
   "nbconvert_exporter": "python",
   "pygments_lexer": "ipython3",
   "version": "3.13.5"
  }
 },
 "nbformat": 4,
 "nbformat_minor": 5
}
